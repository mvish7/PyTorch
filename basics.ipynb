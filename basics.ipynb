{
  "nbformat": 4,
  "nbformat_minor": 0,
  "metadata": {
    "colab": {
      "name": "Untitled0.ipynb",
      "version": "0.3.2",
      "provenance": [],
      "collapsed_sections": [
        "jVVHEva1Xw3w",
        "7Ewo-HuVXpCs",
        "gxgf9t496jeI",
        "KFv4xoCVfzsz",
        "_NjDy4jEAtH3"
      ]
    },
    "kernelspec": {
      "name": "python3",
      "display_name": "Python 3"
    },
    "accelerator": "GPU"
  },
  "cells": [
    {
      "cell_type": "markdown",
      "metadata": {
        "id": "jVVHEva1Xw3w",
        "colab_type": "text"
      },
      "source": [
        "# **video 8-- tensor creation**"
      ]
    },
    {
      "cell_type": "code",
      "metadata": {
        "id": "1vqx0votghXJ",
        "colab_type": "code",
        "outputId": "2798dd10-0367-41e2-e56c-b0d1d4d2b32d",
        "colab": {
          "base_uri": "https://localhost:8080/",
          "height": 118
        }
      },
      "source": [
        "!pip3 install torch torchvision"
      ],
      "execution_count": 0,
      "outputs": [
        {
          "output_type": "stream",
          "text": [
            "Requirement already satisfied: torch in /usr/local/lib/python3.6/dist-packages (1.1.0)\n",
            "Requirement already satisfied: torchvision in /usr/local/lib/python3.6/dist-packages (0.2.2.post3)\n",
            "Requirement already satisfied: numpy in /usr/local/lib/python3.6/dist-packages (from torch) (1.16.3)\n",
            "Requirement already satisfied: six in /usr/local/lib/python3.6/dist-packages (from torchvision) (1.12.0)\n",
            "Requirement already satisfied: pillow>=4.1.1 in /usr/local/lib/python3.6/dist-packages (from torchvision) (4.3.0)\n",
            "Requirement already satisfied: olefile in /usr/local/lib/python3.6/dist-packages (from pillow>=4.1.1->torchvision) (0.46)\n"
          ],
          "name": "stdout"
        }
      ]
    },
    {
      "cell_type": "code",
      "metadata": {
        "id": "XEiErzNGhGIu",
        "colab_type": "code",
        "colab": {}
      },
      "source": [
        "import torch"
      ],
      "execution_count": 0,
      "outputs": []
    },
    {
      "cell_type": "code",
      "metadata": {
        "id": "g3WJQmdxiOrw",
        "colab_type": "code",
        "outputId": "febd1fb7-f588-4e16-dd32-b5e8ee72415f",
        "colab": {
          "base_uri": "https://localhost:8080/",
          "height": 34
        }
      },
      "source": [
        "print(torch.__version__)"
      ],
      "execution_count": 0,
      "outputs": [
        {
          "output_type": "stream",
          "text": [
            "1.1.0\n"
          ],
          "name": "stdout"
        }
      ]
    },
    {
      "cell_type": "code",
      "metadata": {
        "id": "i77Kd2GgiWFe",
        "colab_type": "code",
        "outputId": "f77a5c7d-c467-4989-b2e4-be4414b1972a",
        "colab": {
          "base_uri": "https://localhost:8080/",
          "height": 34
        }
      },
      "source": [
        "torch.cuda.is_available()"
      ],
      "execution_count": 0,
      "outputs": [
        {
          "output_type": "execute_result",
          "data": {
            "text/plain": [
              "True"
            ]
          },
          "metadata": {
            "tags": []
          },
          "execution_count": 4
        }
      ]
    },
    {
      "cell_type": "code",
      "metadata": {
        "id": "cBidtKlniazc",
        "colab_type": "code",
        "outputId": "80f9792f-7b3a-4a3f-c27d-f19c312ef876",
        "colab": {
          "base_uri": "https://localhost:8080/",
          "height": 34
        }
      },
      "source": [
        "torch.version.cuda"
      ],
      "execution_count": 0,
      "outputs": [
        {
          "output_type": "execute_result",
          "data": {
            "text/plain": [
              "'10.0.130'"
            ]
          },
          "metadata": {
            "tags": []
          },
          "execution_count": 5
        }
      ]
    },
    {
      "cell_type": "code",
      "metadata": {
        "id": "a2YwO-i7id64",
        "colab_type": "code",
        "colab": {}
      },
      "source": [
        "t=torch.Tensor()"
      ],
      "execution_count": 0,
      "outputs": []
    },
    {
      "cell_type": "code",
      "metadata": {
        "id": "PHLkBS57P0nZ",
        "colab_type": "code",
        "outputId": "6ace8bbe-9e38-4ff5-b636-168bc7632626",
        "colab": {
          "base_uri": "https://localhost:8080/",
          "height": 34
        }
      },
      "source": [
        "print(t.device)"
      ],
      "execution_count": 0,
      "outputs": [
        {
          "output_type": "stream",
          "text": [
            "cpu\n"
          ],
          "name": "stdout"
        }
      ]
    },
    {
      "cell_type": "code",
      "metadata": {
        "id": "-4E70HXaQDUN",
        "colab_type": "code",
        "outputId": "5f70cee5-f103-4df3-d92d-164a3e0167b9",
        "colab": {
          "base_uri": "https://localhost:8080/",
          "height": 34
        }
      },
      "source": [
        "print(t.dtype)"
      ],
      "execution_count": 0,
      "outputs": [
        {
          "output_type": "stream",
          "text": [
            "torch.float32\n"
          ],
          "name": "stdout"
        }
      ]
    },
    {
      "cell_type": "code",
      "metadata": {
        "id": "LdKcP5r3QIds",
        "colab_type": "code",
        "outputId": "76f1c779-ebe9-447e-f68c-d7687ff7cee1",
        "colab": {
          "base_uri": "https://localhost:8080/",
          "height": 34
        }
      },
      "source": [
        "print(t.layout) #"
      ],
      "execution_count": 0,
      "outputs": [
        {
          "output_type": "stream",
          "text": [
            "torch.strided\n"
          ],
          "name": "stdout"
        }
      ]
    },
    {
      "cell_type": "code",
      "metadata": {
        "id": "AR_Deo_rQL2F",
        "colab_type": "code",
        "outputId": "f04f0c83-da03-4773-e091-299813c17d9e",
        "colab": {
          "base_uri": "https://localhost:8080/",
          "height": 34
        }
      },
      "source": [
        "device=torch.device('cuda:0')\n",
        "device"
      ],
      "execution_count": 0,
      "outputs": [
        {
          "output_type": "execute_result",
          "data": {
            "text/plain": [
              "device(type='cuda', index=0)"
            ]
          },
          "metadata": {
            "tags": []
          },
          "execution_count": 10
        }
      ]
    },
    {
      "cell_type": "markdown",
      "metadata": {
        "id": "CWmazxeaRs6Q",
        "colab_type": "text"
      },
      "source": [
        "**Tensor operations should be done on tensors of same dtype and same device(CPU - GPU operations not allowed)**\n",
        "\n"
      ]
    },
    {
      "cell_type": "markdown",
      "metadata": {
        "id": "gAaaH6cWUTKH",
        "colab_type": "text"
      },
      "source": [
        "**CREATING TENSORS---- 4 WAYS TO DO SO**"
      ]
    },
    {
      "cell_type": "code",
      "metadata": {
        "id": "rQcpywovQ6CR",
        "colab_type": "code",
        "outputId": "a6598fd3-a073-4aa0-f37d-6ebc06770757",
        "colab": {
          "base_uri": "https://localhost:8080/",
          "height": 34
        }
      },
      "source": [
        "import numpy as np\n",
        "data= np.array([1,2,3])\n",
        "type(data)"
      ],
      "execution_count": 0,
      "outputs": [
        {
          "output_type": "execute_result",
          "data": {
            "text/plain": [
              "numpy.ndarray"
            ]
          },
          "metadata": {
            "tags": []
          },
          "execution_count": 11
        }
      ]
    },
    {
      "cell_type": "code",
      "metadata": {
        "id": "G4K-l2zrUl-0",
        "colab_type": "code",
        "outputId": "e1730196-ef7f-41c3-cb35-7478ffe44500",
        "colab": {
          "base_uri": "https://localhost:8080/",
          "height": 34
        }
      },
      "source": [
        "d0=torch.Tensor(data)  #this is class constructor of torch.Tensor class\n",
        "print(d0.dtype)"
      ],
      "execution_count": 0,
      "outputs": [
        {
          "output_type": "stream",
          "text": [
            "torch.float32\n"
          ],
          "name": "stdout"
        }
      ]
    },
    {
      "cell_type": "code",
      "metadata": {
        "id": "rKDYGWYQU9aT",
        "colab_type": "code",
        "outputId": "50005ca8-e0c5-4ea9-81eb-8073002cb07d",
        "colab": {
          "base_uri": "https://localhost:8080/",
          "height": 178
        }
      },
      "source": [
        "d1=torch.tensor(data)\n",
        "print(d.dtype)# this is the function of the class, notice the change in the o/p data type"
      ],
      "execution_count": 0,
      "outputs": [
        {
          "output_type": "error",
          "ename": "NameError",
          "evalue": "ignored",
          "traceback": [
            "\u001b[0;31m---------------------------------------------------------------------------\u001b[0m",
            "\u001b[0;31mNameError\u001b[0m                                 Traceback (most recent call last)",
            "\u001b[0;32m<ipython-input-13-a31d3f2cde14>\u001b[0m in \u001b[0;36m<module>\u001b[0;34m()\u001b[0m\n\u001b[1;32m      1\u001b[0m \u001b[0md1\u001b[0m\u001b[0;34m=\u001b[0m\u001b[0mtorch\u001b[0m\u001b[0;34m.\u001b[0m\u001b[0mtensor\u001b[0m\u001b[0;34m(\u001b[0m\u001b[0mdata\u001b[0m\u001b[0;34m)\u001b[0m\u001b[0;34m\u001b[0m\u001b[0;34m\u001b[0m\u001b[0m\n\u001b[0;32m----> 2\u001b[0;31m \u001b[0mprint\u001b[0m\u001b[0;34m(\u001b[0m\u001b[0md\u001b[0m\u001b[0;34m.\u001b[0m\u001b[0mdtype\u001b[0m\u001b[0;34m)\u001b[0m\u001b[0;31m# this is the function of the class, notice the change in the o/p data type\u001b[0m\u001b[0;34m\u001b[0m\u001b[0;34m\u001b[0m\u001b[0m\n\u001b[0m",
            "\u001b[0;31mNameError\u001b[0m: name 'd' is not defined"
          ]
        }
      ]
    },
    {
      "cell_type": "code",
      "metadata": {
        "id": "0AmwZhD2U_9_",
        "colab_type": "code",
        "colab": {}
      },
      "source": [
        "d2=torch.as_tensor(data)"
      ],
      "execution_count": 0,
      "outputs": []
    },
    {
      "cell_type": "code",
      "metadata": {
        "id": "AvUUxnXMVxW0",
        "colab_type": "code",
        "colab": {}
      },
      "source": [
        "d3=torch.from_numpy(data)\n",
        "print(d3)"
      ],
      "execution_count": 0,
      "outputs": []
    },
    {
      "cell_type": "markdown",
      "metadata": {
        "id": "Jbq5tZecWauG",
        "colab_type": "text"
      },
      "source": [
        "**Tensor creation options when no data is available**"
      ]
    },
    {
      "cell_type": "code",
      "metadata": {
        "id": "zodOdyelWJuG",
        "colab_type": "code",
        "colab": {}
      },
      "source": [
        "torch.eye(3)  #identity matrix"
      ],
      "execution_count": 0,
      "outputs": []
    },
    {
      "cell_type": "code",
      "metadata": {
        "id": "-6j-xlufWnQ6",
        "colab_type": "code",
        "colab": {}
      },
      "source": [
        "torch.zeros(2,2) #rank 2, 2 axes"
      ],
      "execution_count": 0,
      "outputs": []
    },
    {
      "cell_type": "code",
      "metadata": {
        "id": "A4iev8x9WtOm",
        "colab_type": "code",
        "colab": {}
      },
      "source": [
        "torch.zeros(2)"
      ],
      "execution_count": 0,
      "outputs": []
    },
    {
      "cell_type": "code",
      "metadata": {
        "id": "PWRQyUskW1Ea",
        "colab_type": "code",
        "colab": {}
      },
      "source": [
        "torch.ones(3,3)"
      ],
      "execution_count": 0,
      "outputs": []
    },
    {
      "cell_type": "code",
      "metadata": {
        "id": "6SeXxxwPXJrS",
        "colab_type": "code",
        "colab": {}
      },
      "source": [
        "torch.rand(5)"
      ],
      "execution_count": 0,
      "outputs": []
    },
    {
      "cell_type": "code",
      "metadata": {
        "id": "5lmc5oioXLi5",
        "colab_type": "code",
        "colab": {}
      },
      "source": [
        "torch.rand(3,4)"
      ],
      "execution_count": 0,
      "outputs": []
    },
    {
      "cell_type": "markdown",
      "metadata": {
        "id": "7Ewo-HuVXpCs",
        "colab_type": "text"
      },
      "source": [
        "# **VIDEO 9-- BEST OPTIONS TO CREATE TENSORS**"
      ]
    },
    {
      "cell_type": "markdown",
      "metadata": {
        "id": "8gVKPXl23e50",
        "colab_type": "text"
      },
      "source": [
        "**Blog post of video9** http://deeplizard.com/learn/video/AglLTlms7HU"
      ]
    },
    {
      "cell_type": "code",
      "metadata": {
        "id": "p2So1Rc2XQeD",
        "colab_type": "code",
        "colab": {}
      },
      "source": [
        "import torch\n",
        "import numpy as np"
      ],
      "execution_count": 0,
      "outputs": []
    },
    {
      "cell_type": "code",
      "metadata": {
        "id": "51GhpEV-loac",
        "colab_type": "code",
        "colab": {}
      },
      "source": [
        "data= np.array([1,2,4])\n",
        "t1=torch.Tensor(data) #class constructor\n",
        "t2=torch.tensor(data) #all 3 are factory functions, factory functions has better documentation, methods and interfaces\n",
        "t3=torch.as_tensor(data)\n",
        "t4=torch.from_numpy(data)"
      ],
      "execution_count": 0,
      "outputs": []
    },
    {
      "cell_type": "code",
      "metadata": {
        "id": "88K2cGj8l1o4",
        "colab_type": "code",
        "colab": {}
      },
      "source": [
        "print(t1, t2,t3,t4)"
      ],
      "execution_count": 0,
      "outputs": []
    },
    {
      "cell_type": "code",
      "metadata": {
        "id": "N86N907QmIeR",
        "colab_type": "code",
        "colab": {}
      },
      "source": [
        "print(t1.dtype,t2.dtype, t3.dtype, t4.dtype) #constructor uses global default dtype value and factory functions retain the dtype of ip"
      ],
      "execution_count": 0,
      "outputs": []
    },
    {
      "cell_type": "markdown",
      "metadata": {
        "id": "ccgNWJhLwQUI",
        "colab_type": "text"
      },
      "source": [
        "**Setting dtype of tensor**\n",
        "\n",
        ">               \n",
        "Constructor cant set the dtype of tensor\n"
      ]
    },
    {
      "cell_type": "code",
      "metadata": {
        "id": "fo0y-TaXo70a",
        "colab_type": "code",
        "colab": {}
      },
      "source": [
        "torch.tensor(np.array([1,2,5]), dtype=torch.float64 )"
      ],
      "execution_count": 0,
      "outputs": []
    },
    {
      "cell_type": "code",
      "metadata": {
        "id": "QvLf8lM-wfTE",
        "colab_type": "code",
        "colab": {}
      },
      "source": [
        "torch.tensor(np.array([1,2,-5]), dtype=torch.uint8 )"
      ],
      "execution_count": 0,
      "outputs": []
    },
    {
      "cell_type": "markdown",
      "metadata": {
        "id": "wI7UGm5gw85i",
        "colab_type": "text"
      },
      "source": [
        "**Memory sharing Vs Memory Copying**"
      ]
    },
    {
      "cell_type": "code",
      "metadata": {
        "id": "3BiPH23fwjM3",
        "colab_type": "code",
        "outputId": "bed638b0-1acd-4ba2-d914-526cc1447170",
        "colab": {
          "base_uri": "https://localhost:8080/",
          "height": 34
        }
      },
      "source": [
        "data=np.array([1,5,7,8])\n",
        "data"
      ],
      "execution_count": 28,
      "outputs": [
        {
          "output_type": "execute_result",
          "data": {
            "text/plain": [
              "array([1, 5, 7, 8])"
            ]
          },
          "metadata": {
            "tags": []
          },
          "execution_count": 28
        }
      ]
    },
    {
      "cell_type": "code",
      "metadata": {
        "id": "7YhGsnJKr44T",
        "colab_type": "code",
        "colab": {}
      },
      "source": [
        "t1= torch.Tensor(data)\n",
        "t2=torch.tensor(data)\n",
        "t3=torch.as_tensor(data)\n",
        "t4=torch.from_numpy(data)"
      ],
      "execution_count": 0,
      "outputs": []
    },
    {
      "cell_type": "markdown",
      "metadata": {
        "id": "VUf05IWGsHSd",
        "colab_type": "text"
      },
      "source": [
        "**now changing the data array we defined before and see how the tensors act**"
      ]
    },
    {
      "cell_type": "code",
      "metadata": {
        "id": "rmROT9Umr71u",
        "colab_type": "code",
        "colab": {
          "base_uri": "https://localhost:8080/",
          "height": 34
        },
        "outputId": "7821aaad-dbd2-4165-ffc5-e32a7c42cab6"
      },
      "source": [
        "data[0]=0\n",
        "data[1]=0\n",
        "data[2]=0\n",
        "data[3]=0\n",
        "data"
      ],
      "execution_count": 30,
      "outputs": [
        {
          "output_type": "execute_result",
          "data": {
            "text/plain": [
              "array([0, 0, 0, 0])"
            ]
          },
          "metadata": {
            "tags": []
          },
          "execution_count": 30
        }
      ]
    },
    {
      "cell_type": "code",
      "metadata": {
        "id": "v39tSIIOyMvK",
        "colab_type": "code",
        "colab": {
          "base_uri": "https://localhost:8080/",
          "height": 50
        },
        "outputId": "d5c1564f-b104-4249-be0b-24d1e91f3a79"
      },
      "source": [
        "print(t1)\n",
        "print(t2)"
      ],
      "execution_count": 31,
      "outputs": [
        {
          "output_type": "stream",
          "text": [
            "tensor([1., 5., 7., 8.])\n",
            "tensor([1, 5, 7, 8])\n"
          ],
          "name": "stdout"
        }
      ]
    },
    {
      "cell_type": "code",
      "metadata": {
        "id": "a69XYzReyRTT",
        "colab_type": "code",
        "colab": {
          "base_uri": "https://localhost:8080/",
          "height": 50
        },
        "outputId": "83399b9e-bb50-4775-c6fb-d9cbe0a9c8ee"
      },
      "source": [
        "print(t3)\n",
        "print(t4)"
      ],
      "execution_count": 32,
      "outputs": [
        {
          "output_type": "stream",
          "text": [
            "tensor([0, 0, 0, 0])\n",
            "tensor([0, 0, 0, 0])\n"
          ],
          "name": "stdout"
        }
      ]
    },
    {
      "cell_type": "markdown",
      "metadata": {
        "id": "Hx-Dkm2nzaZv",
        "colab_type": "text"
      },
      "source": [
        "**key takeaway**\n",
        "torch.tensor() and torch.Tensor() create an additonal copy of data in memory i.e. use new mem to create tensor from ip data\n",
        "\n",
        "whereas torch.as_tensor() and torch.from_numpy() share the mem with numpy array"
      ]
    },
    {
      "cell_type": "markdown",
      "metadata": {
        "id": "3oRFgoBN0Ogo",
        "colab_type": "text"
      },
      "source": [
        "So while shifting data too and from in between numpy and torch tensors use torch.as_tensor and torch.from_numpy"
      ]
    },
    {
      "cell_type": "markdown",
      "metadata": {
        "id": "gxgf9t496jeI",
        "colab_type": "text"
      },
      "source": [
        "# **VIDEO 10 Tensor operations**"
      ]
    },
    {
      "cell_type": "markdown",
      "metadata": {
        "id": "sm38Wg0WNA1n",
        "colab_type": "text"
      },
      "source": [
        "**blog post** http://deeplizard.com/learn/video/fCVuiW9AFzY"
      ]
    },
    {
      "cell_type": "code",
      "metadata": {
        "id": "ZnGvhAlUyvPA",
        "colab_type": "code",
        "colab": {}
      },
      "source": [
        "import torch"
      ],
      "execution_count": 0,
      "outputs": []
    },
    {
      "cell_type": "code",
      "metadata": {
        "id": "OQJwWAFc6r0i",
        "colab_type": "code",
        "colab": {}
      },
      "source": [
        "t1=torch.tensor([[1,1,1,1],\n",
        "              [2,2,2,2],\n",
        "              [3,3,3,3]], dtype=torch.float32)"
      ],
      "execution_count": 0,
      "outputs": []
    },
    {
      "cell_type": "markdown",
      "metadata": {
        "id": "2tXVmm5B8wAi",
        "colab_type": "text"
      },
      "source": [
        "above tensor has shape 3*4\n",
        "rank=2 (we need only 2 indices for it be accessed)\n",
        "axis= 2 (1st axes has length 3, 3 arrays and 2nd axis has length 4 it has all numbers)"
      ]
    },
    {
      "cell_type": "code",
      "metadata": {
        "id": "zMkuh2Pz7LzW",
        "colab_type": "code",
        "colab": {
          "base_uri": "https://localhost:8080/",
          "height": 0
        },
        "outputId": "2fb6e315-9f36-48f6-9caf-9d1e3db56b46"
      },
      "source": [
        "t1.size()\n",
        " #checking shape"
      ],
      "execution_count": 38,
      "outputs": [
        {
          "output_type": "execute_result",
          "data": {
            "text/plain": [
              "torch.Size([3, 4])"
            ]
          },
          "metadata": {
            "tags": []
          },
          "execution_count": 38
        }
      ]
    },
    {
      "cell_type": "code",
      "metadata": {
        "id": "E93RhgE89KuP",
        "colab_type": "code",
        "colab": {
          "base_uri": "https://localhost:8080/",
          "height": 0
        },
        "outputId": "a75a1f3d-c0e3-4131-d861-44004284ca13"
      },
      "source": [
        "t1.shape  #checking shape"
      ],
      "execution_count": 40,
      "outputs": [
        {
          "output_type": "execute_result",
          "data": {
            "text/plain": [
              "torch.Size([3, 4])"
            ]
          },
          "metadata": {
            "tags": []
          },
          "execution_count": 40
        }
      ]
    },
    {
      "cell_type": "code",
      "metadata": {
        "id": "vPH4S75S9Te2",
        "colab_type": "code",
        "colab": {
          "base_uri": "https://localhost:8080/",
          "height": 34
        },
        "outputId": "ad21d4a9-fe9a-443b-ad5f-87261c0eb38e"
      },
      "source": [
        "len(t1.shape) #length of shape is nothing but rank coz it gives number of indices necessary to access the tensor"
      ],
      "execution_count": 42,
      "outputs": [
        {
          "output_type": "execute_result",
          "data": {
            "text/plain": [
              "2"
            ]
          },
          "metadata": {
            "tags": []
          },
          "execution_count": 42
        }
      ]
    },
    {
      "cell_type": "code",
      "metadata": {
        "id": "3XNbPTUo9gRx",
        "colab_type": "code",
        "colab": {
          "base_uri": "https://localhost:8080/",
          "height": 34
        },
        "outputId": "fb5e06dc-02dc-4a9b-d280-d11dc2066bc5"
      },
      "source": [
        "torch.tensor(t1.shape).prod() #multiplying the elements in torch.size to get total no. of elements in the tensor "
      ],
      "execution_count": 43,
      "outputs": [
        {
          "output_type": "execute_result",
          "data": {
            "text/plain": [
              "tensor(12)"
            ]
          },
          "metadata": {
            "tags": []
          },
          "execution_count": 43
        }
      ]
    },
    {
      "cell_type": "code",
      "metadata": {
        "id": "To37xuSPBLVZ",
        "colab_type": "code",
        "colab": {
          "base_uri": "https://localhost:8080/",
          "height": 34
        },
        "outputId": "2ef6ba7f-f658-4067-f566-09ecb548bc02"
      },
      "source": [
        "t1.numel() #above can be done by default function numel"
      ],
      "execution_count": 44,
      "outputs": [
        {
          "output_type": "execute_result",
          "data": {
            "text/plain": [
              "12"
            ]
          },
          "metadata": {
            "tags": []
          },
          "execution_count": 44
        }
      ]
    },
    {
      "cell_type": "markdown",
      "metadata": {
        "id": "snbsCmGJB7OO",
        "colab_type": "text"
      },
      "source": [
        "Reshaping the tensor wo changing it's shape and rank"
      ]
    },
    {
      "cell_type": "code",
      "metadata": {
        "id": "yiBRZRhPBXCp",
        "colab_type": "code",
        "colab": {
          "base_uri": "https://localhost:8080/",
          "height": 84
        },
        "outputId": "4787b2e4-3c1b-49af-cc66-2d088d27577f"
      },
      "source": [
        "t1.reshape(4,3)"
      ],
      "execution_count": 46,
      "outputs": [
        {
          "output_type": "execute_result",
          "data": {
            "text/plain": [
              "tensor([[1., 1., 1.],\n",
              "        [1., 2., 2.],\n",
              "        [2., 2., 3.],\n",
              "        [3., 3., 3.]])"
            ]
          },
          "metadata": {
            "tags": []
          },
          "execution_count": 46
        }
      ]
    },
    {
      "cell_type": "code",
      "metadata": {
        "id": "tzOesDfQCBvP",
        "colab_type": "code",
        "colab": {
          "base_uri": "https://localhost:8080/",
          "height": 218
        },
        "outputId": "fc421ab1-bc0a-45fe-b674-51f241747a77"
      },
      "source": [
        "t1.reshape(12,1)"
      ],
      "execution_count": 47,
      "outputs": [
        {
          "output_type": "execute_result",
          "data": {
            "text/plain": [
              "tensor([[1.],\n",
              "        [1.],\n",
              "        [1.],\n",
              "        [1.],\n",
              "        [2.],\n",
              "        [2.],\n",
              "        [2.],\n",
              "        [2.],\n",
              "        [3.],\n",
              "        [3.],\n",
              "        [3.],\n",
              "        [3.]])"
            ]
          },
          "metadata": {
            "tags": []
          },
          "execution_count": 47
        }
      ]
    },
    {
      "cell_type": "code",
      "metadata": {
        "id": "8ULG_byeCFsw",
        "colab_type": "code",
        "colab": {
          "base_uri": "https://localhost:8080/",
          "height": 34
        },
        "outputId": "e92ad099-5022-4599-b3a6-2fd3dda39a1f"
      },
      "source": [
        "t1.reshape(1,12)"
      ],
      "execution_count": 48,
      "outputs": [
        {
          "output_type": "execute_result",
          "data": {
            "text/plain": [
              "tensor([[1., 1., 1., 1., 2., 2., 2., 2., 3., 3., 3., 3.]])"
            ]
          },
          "metadata": {
            "tags": []
          },
          "execution_count": 48
        }
      ]
    },
    {
      "cell_type": "code",
      "metadata": {
        "id": "RT7dqFpxCIKQ",
        "colab_type": "code",
        "colab": {
          "base_uri": "https://localhost:8080/",
          "height": 118
        },
        "outputId": "a37f48fb-2993-4a3e-c371-425c0f1f2cab"
      },
      "source": [
        "t1.reshape(6,2)"
      ],
      "execution_count": 49,
      "outputs": [
        {
          "output_type": "execute_result",
          "data": {
            "text/plain": [
              "tensor([[1., 1.],\n",
              "        [1., 1.],\n",
              "        [2., 2.],\n",
              "        [2., 2.],\n",
              "        [3., 3.],\n",
              "        [3., 3.]])"
            ]
          },
          "metadata": {
            "tags": []
          },
          "execution_count": 49
        }
      ]
    },
    {
      "cell_type": "markdown",
      "metadata": {
        "id": "jVB9MY2AD0gd",
        "colab_type": "text"
      },
      "source": [
        "**Squeezing opeartion removes axis of length 1 from tensor and unsqueezing operation adds the axis of length 1 to the tensor**"
      ]
    },
    {
      "cell_type": "code",
      "metadata": {
        "id": "Ikg-ptWKCMnX",
        "colab_type": "code",
        "colab": {
          "base_uri": "https://localhost:8080/",
          "height": 50
        },
        "outputId": "7d534c55-40cd-4acc-9845-bea311f6a4d1"
      },
      "source": [
        "print(t1.reshape(1,12))\n",
        "print(t1.reshape(1,12).shape)"
      ],
      "execution_count": 52,
      "outputs": [
        {
          "output_type": "stream",
          "text": [
            "tensor([[1., 1., 1., 1., 2., 2., 2., 2., 3., 3., 3., 3.]])\n",
            "torch.Size([1, 12])\n"
          ],
          "name": "stdout"
        }
      ]
    },
    {
      "cell_type": "markdown",
      "metadata": {
        "id": "PGrOUypBGn5T",
        "colab_type": "text"
      },
      "source": [
        "notice the size change before and after squeeze operation"
      ]
    },
    {
      "cell_type": "code",
      "metadata": {
        "id": "ictSRhp8GGuv",
        "colab_type": "code",
        "colab": {
          "base_uri": "https://localhost:8080/",
          "height": 50
        },
        "outputId": "6125fdcd-dd0c-4b46-c581-79223be70c48"
      },
      "source": [
        "print(t1.reshape(1,12).squeeze())\n",
        "print(t1.reshape(1,12).squeeze().shape)"
      ],
      "execution_count": 56,
      "outputs": [
        {
          "output_type": "stream",
          "text": [
            "tensor([1., 1., 1., 1., 2., 2., 2., 2., 3., 3., 3., 3.])\n",
            "torch.Size([12])\n"
          ],
          "name": "stdout"
        }
      ]
    },
    {
      "cell_type": "markdown",
      "metadata": {
        "id": "0hr-2E0gHkU1",
        "colab_type": "text"
      },
      "source": [
        "notice the size change before and after squeeze operation\n",
        "dim 0 will make new dimension 1,12  i.e. new column will be added in 1st dimension and dim 1will make size 12,1 i.e new column will be added in 2nd dimension"
      ]
    },
    {
      "cell_type": "code",
      "metadata": {
        "id": "pMpgUGnHGY9h",
        "colab_type": "code",
        "colab": {
          "base_uri": "https://localhost:8080/",
          "height": 50
        },
        "outputId": "20c325df-4112-4f07-d5bc-fb35155e112c"
      },
      "source": [
        "print(t1.reshape(1,12).squeeze().unsqueeze(dim=0))\n",
        "print(t1.reshape(1,12).squeeze().unsqueeze(dim=0).shape)"
      ],
      "execution_count": 62,
      "outputs": [
        {
          "output_type": "stream",
          "text": [
            "tensor([[1., 1., 1., 1., 2., 2., 2., 2., 3., 3., 3., 3.]])\n",
            "torch.Size([1, 12])\n"
          ],
          "name": "stdout"
        }
      ]
    },
    {
      "cell_type": "markdown",
      "metadata": {
        "id": "VOd6VRfuIDMg",
        "colab_type": "text"
      },
      "source": [
        "with squeezing opearation rank of the tensor can be altered."
      ]
    },
    {
      "cell_type": "markdown",
      "metadata": {
        "id": "i50jMJH6LJE6",
        "colab_type": "text"
      },
      "source": [
        "**Making up flatening function with the help of reshape and squeeze**"
      ]
    },
    {
      "cell_type": "code",
      "metadata": {
        "id": "H2LO22XgHA0d",
        "colab_type": "code",
        "colab": {}
      },
      "source": [
        "def flatten(t1):\n",
        "  t=t1.reshape(1,-1) # -1 tells the reshape function to figure out the 2nd dimension of ip tensor\n",
        "  t=t.squeeze()\n",
        "  return t"
      ],
      "execution_count": 0,
      "outputs": []
    },
    {
      "cell_type": "code",
      "metadata": {
        "id": "KDACumUEL7AL",
        "colab_type": "code",
        "colab": {
          "base_uri": "https://localhost:8080/",
          "height": 34
        },
        "outputId": "a139fe5e-7a39-41df-c45b-2ce131fc0117"
      },
      "source": [
        "flatten(t1)"
      ],
      "execution_count": 64,
      "outputs": [
        {
          "output_type": "execute_result",
          "data": {
            "text/plain": [
              "tensor([1., 1., 1., 1., 2., 2., 2., 2., 3., 3., 3., 3.])"
            ]
          },
          "metadata": {
            "tags": []
          },
          "execution_count": 64
        }
      ]
    },
    {
      "cell_type": "markdown",
      "metadata": {
        "id": "HP89NciXMSGZ",
        "colab_type": "text"
      },
      "source": [
        "**tensor concatination**"
      ]
    },
    {
      "cell_type": "code",
      "metadata": {
        "id": "PrmnOGGJL99S",
        "colab_type": "code",
        "colab": {
          "base_uri": "https://localhost:8080/",
          "height": 34
        },
        "outputId": "006d16e3-e122-4890-e1e3-38281260a53f"
      },
      "source": [
        "t1=torch.tensor(np.array([1,1,2]))\n",
        "t2=torch.tensor(np.array([5,8,9]))\n",
        "t3=torch.cat((t1,t2), dim=0)\n",
        "t3"
      ],
      "execution_count": 71,
      "outputs": [
        {
          "output_type": "execute_result",
          "data": {
            "text/plain": [
              "tensor([1, 1, 2, 5, 8, 9])"
            ]
          },
          "metadata": {
            "tags": []
          },
          "execution_count": 71
        }
      ]
    },
    {
      "cell_type": "markdown",
      "metadata": {
        "id": "KFv4xoCVfzsz",
        "colab_type": "text"
      },
      "source": [
        "# **Video 11 Visualizing the FLATTEN operation**"
      ]
    },
    {
      "cell_type": "markdown",
      "metadata": {
        "id": "Qz0xQW-A1pr-",
        "colab_type": "text"
      },
      "source": [
        "**blog post** http://deeplizard.com/learn/video/mFAIBMbACMA"
      ]
    },
    {
      "cell_type": "code",
      "metadata": {
        "id": "eyiMZztyMZ49",
        "colab_type": "code",
        "colab": {}
      },
      "source": [
        "import torch"
      ],
      "execution_count": 0,
      "outputs": []
    },
    {
      "cell_type": "code",
      "metadata": {
        "id": "PvqOzmIXhfg6",
        "colab_type": "code",
        "colab": {}
      },
      "source": [
        "t1=torch.tensor([[1,1,1,1],\n",
        "                [1,1,1,1],\n",
        "                [1,1,1,1],\n",
        "                [1,1,1,1]])\n",
        "\n",
        "\n",
        "t2=torch.tensor([[2,2,2,2],\n",
        "                [2,2,2,2],\n",
        "                [2,2,2,2],\n",
        "                [2,2,2,2]])\n",
        "\n",
        "t3=torch.tensor([[3,3,3,3],\n",
        "                [3,3,3,3],\n",
        "                [3,3,3,3],\n",
        "                [3,3,3,3]])\n"
      ],
      "execution_count": 0,
      "outputs": []
    },
    {
      "cell_type": "markdown",
      "metadata": {
        "id": "lOWFtab9isqd",
        "colab_type": "text"
      },
      "source": [
        "We are creating a batch of these 3 tensors, consider this tensors as images. We want to combine the tensors in such a way that the new tensor has 3 axes i.e. rank 3 tensor"
      ]
    },
    {
      "cell_type": "code",
      "metadata": {
        "id": "8j1ZfM13iMXu",
        "colab_type": "code",
        "colab": {
          "base_uri": "https://localhost:8080/",
          "height": 34
        },
        "outputId": "5bbb9654-53d0-4652-a2b0-54aa09147548"
      },
      "source": [
        "t=torch.stack((t1,t2,t3))\n",
        "t.shape"
      ],
      "execution_count": 5,
      "outputs": [
        {
          "output_type": "execute_result",
          "data": {
            "text/plain": [
              "torch.Size([3, 4, 4])"
            ]
          },
          "metadata": {
            "tags": []
          },
          "execution_count": 5
        }
      ]
    },
    {
      "cell_type": "code",
      "metadata": {
        "id": "zxrXQTLgjKMi",
        "colab_type": "code",
        "colab": {
          "base_uri": "https://localhost:8080/",
          "height": 252
        },
        "outputId": "a0b112ba-51b8-4a6e-cdcb-24c6b6c47ce1"
      },
      "source": [
        "t\n"
      ],
      "execution_count": 6,
      "outputs": [
        {
          "output_type": "execute_result",
          "data": {
            "text/plain": [
              "tensor([[[1, 1, 1, 1],\n",
              "         [1, 1, 1, 1],\n",
              "         [1, 1, 1, 1],\n",
              "         [1, 1, 1, 1]],\n",
              "\n",
              "        [[2, 2, 2, 2],\n",
              "         [2, 2, 2, 2],\n",
              "         [2, 2, 2, 2],\n",
              "         [2, 2, 2, 2]],\n",
              "\n",
              "        [[3, 3, 3, 3],\n",
              "         [3, 3, 3, 3],\n",
              "         [3, 3, 3, 3],\n",
              "         [3, 3, 3, 3]]])"
            ]
          },
          "metadata": {
            "tags": []
          },
          "execution_count": 6
        }
      ]
    },
    {
      "cell_type": "markdown",
      "metadata": {
        "id": "oAOtyROHjZvf",
        "colab_type": "text"
      },
      "source": [
        "[3, 4, 4] is the size of new tensor, 3 denotes the batch size i.e. there are 3 tensors in a batch and (4,4 ) is height and width of the tensors.\n",
        "now we should add one more axis to this tensor to make it accepatable as cnn ip i.e the color channel axis. "
      ]
    },
    {
      "cell_type": "code",
      "metadata": {
        "id": "jYZrdxc3jNuz",
        "colab_type": "code",
        "colab": {
          "base_uri": "https://localhost:8080/",
          "height": 286
        },
        "outputId": "4c0359f8-3b3b-459d-8b37-1a3d9df241e0"
      },
      "source": [
        "t=t.reshape(3,1,4,4)\n",
        "t"
      ],
      "execution_count": 8,
      "outputs": [
        {
          "output_type": "execute_result",
          "data": {
            "text/plain": [
              "tensor([[[[1, 1, 1, 1],\n",
              "          [1, 1, 1, 1],\n",
              "          [1, 1, 1, 1],\n",
              "          [1, 1, 1, 1]]],\n",
              "\n",
              "\n",
              "        [[[2, 2, 2, 2],\n",
              "          [2, 2, 2, 2],\n",
              "          [2, 2, 2, 2],\n",
              "          [2, 2, 2, 2]]],\n",
              "\n",
              "\n",
              "        [[[3, 3, 3, 3],\n",
              "          [3, 3, 3, 3],\n",
              "          [3, 3, 3, 3],\n",
              "          [3, 3, 3, 3]]]])"
            ]
          },
          "metadata": {
            "tags": []
          },
          "execution_count": 8
        }
      ]
    },
    {
      "cell_type": "markdown",
      "metadata": {
        "id": "EeLXIkPPkBIS",
        "colab_type": "text"
      },
      "source": [
        "adding one more axis doesn't change the dimension of the tensor as the multiplication of the given dimensions(3,1,4,4,) is still same as (3,4,4)\n",
        "\n",
        "to observe the change in the dimension notice the number of square brackets in this and above op of t"
      ]
    },
    {
      "cell_type": "markdown",
      "metadata": {
        "id": "7FlCryOYk7X_",
        "colab_type": "text"
      },
      "source": [
        "![four axes of the new tensors](https://ibb.co/PFdKfQ8)\n"
      ]
    },
    {
      "cell_type": "markdown",
      "metadata": {
        "id": "ZFt4KZmEoqHK",
        "colab_type": "text"
      },
      "source": [
        "The first Image"
      ]
    },
    {
      "cell_type": "code",
      "metadata": {
        "id": "OgBmSsgfj9Pk",
        "colab_type": "code",
        "colab": {
          "base_uri": "https://localhost:8080/",
          "height": 84
        },
        "outputId": "93381139-1b45-4dcc-b19f-4553e29f3d4f"
      },
      "source": [
        "t[0]"
      ],
      "execution_count": 9,
      "outputs": [
        {
          "output_type": "execute_result",
          "data": {
            "text/plain": [
              "tensor([[[1, 1, 1, 1],\n",
              "         [1, 1, 1, 1],\n",
              "         [1, 1, 1, 1],\n",
              "         [1, 1, 1, 1]]])"
            ]
          },
          "metadata": {
            "tags": []
          },
          "execution_count": 9
        }
      ]
    },
    {
      "cell_type": "markdown",
      "metadata": {
        "id": "XC1HSFVcox3O",
        "colab_type": "text"
      },
      "source": [
        "The first color channel"
      ]
    },
    {
      "cell_type": "code",
      "metadata": {
        "id": "V5dD-GabopKW",
        "colab_type": "code",
        "colab": {
          "base_uri": "https://localhost:8080/",
          "height": 84
        },
        "outputId": "2d1cc495-55cf-464a-8a0a-5dd66634fdf7"
      },
      "source": [
        "t[0][0]"
      ],
      "execution_count": 10,
      "outputs": [
        {
          "output_type": "execute_result",
          "data": {
            "text/plain": [
              "tensor([[1, 1, 1, 1],\n",
              "        [1, 1, 1, 1],\n",
              "        [1, 1, 1, 1],\n",
              "        [1, 1, 1, 1]])"
            ]
          },
          "metadata": {
            "tags": []
          },
          "execution_count": 10
        }
      ]
    },
    {
      "cell_type": "markdown",
      "metadata": {
        "id": "VwxR7xtEqYU-",
        "colab_type": "text"
      },
      "source": [
        "First row of pixel in the first color channel of the first image"
      ]
    },
    {
      "cell_type": "code",
      "metadata": {
        "id": "lNfoButIoxMw",
        "colab_type": "code",
        "colab": {
          "base_uri": "https://localhost:8080/",
          "height": 34
        },
        "outputId": "ec698d9a-97f7-4ef6-9e74-757c10da44f8"
      },
      "source": [
        "t[0][0][0]"
      ],
      "execution_count": 11,
      "outputs": [
        {
          "output_type": "execute_result",
          "data": {
            "text/plain": [
              "tensor([1, 1, 1, 1])"
            ]
          },
          "metadata": {
            "tags": []
          },
          "execution_count": 11
        }
      ]
    },
    {
      "cell_type": "markdown",
      "metadata": {
        "id": "AdpNmoyeqsFq",
        "colab_type": "text"
      },
      "source": [
        "the first pixel value in the first color channel of the first image"
      ]
    },
    {
      "cell_type": "code",
      "metadata": {
        "id": "HKdgMAo2o564",
        "colab_type": "code",
        "colab": {
          "base_uri": "https://localhost:8080/",
          "height": 34
        },
        "outputId": "9aee41a4-c4b3-416c-fcb5-6c5336357837"
      },
      "source": [
        "t[0][0][0][0]"
      ],
      "execution_count": 12,
      "outputs": [
        {
          "output_type": "execute_result",
          "data": {
            "text/plain": [
              "tensor(1)"
            ]
          },
          "metadata": {
            "tags": []
          },
          "execution_count": 12
        }
      ]
    },
    {
      "cell_type": "markdown",
      "metadata": {
        "id": "Edp2nNWsr75O",
        "colab_type": "text"
      },
      "source": [
        "The whole batch is a single tensor (collection of images )so we dont want to flatten the whole tensor, we just want to flattent the image part from this tensor"
      ]
    },
    {
      "cell_type": "markdown",
      "metadata": {
        "id": "HhNEwObSssT7",
        "colab_type": "text"
      },
      "source": [
        "lets first see the various ways to flatten the whole tensor"
      ]
    },
    {
      "cell_type": "code",
      "metadata": {
        "id": "QNQePy_eqpU8",
        "colab_type": "code",
        "colab": {
          "base_uri": "https://localhost:8080/",
          "height": 50
        },
        "outputId": "39486376-bddc-44cb-8c1b-0609bb741b02"
      },
      "source": [
        "t.reshape(-1)"
      ],
      "execution_count": 13,
      "outputs": [
        {
          "output_type": "execute_result",
          "data": {
            "text/plain": [
              "tensor([1, 1, 1, 1, 1, 1, 1, 1, 1, 1, 1, 1, 1, 1, 1, 1, 2, 2, 2, 2, 2, 2, 2, 2,\n",
              "        2, 2, 2, 2, 2, 2, 2, 2, 3, 3, 3, 3, 3, 3, 3, 3, 3, 3, 3, 3, 3, 3, 3, 3])"
            ]
          },
          "metadata": {
            "tags": []
          },
          "execution_count": 13
        }
      ]
    },
    {
      "cell_type": "code",
      "metadata": {
        "id": "aV07Mpt_syJ2",
        "colab_type": "code",
        "colab": {
          "base_uri": "https://localhost:8080/",
          "height": 50
        },
        "outputId": "020a5287-f670-4f5f-8430-d3e38b944666"
      },
      "source": [
        "t.reshape(1,-1)[0]\n"
      ],
      "execution_count": 14,
      "outputs": [
        {
          "output_type": "execute_result",
          "data": {
            "text/plain": [
              "tensor([1, 1, 1, 1, 1, 1, 1, 1, 1, 1, 1, 1, 1, 1, 1, 1, 2, 2, 2, 2, 2, 2, 2, 2,\n",
              "        2, 2, 2, 2, 2, 2, 2, 2, 3, 3, 3, 3, 3, 3, 3, 3, 3, 3, 3, 3, 3, 3, 3, 3])"
            ]
          },
          "metadata": {
            "tags": []
          },
          "execution_count": 14
        }
      ]
    },
    {
      "cell_type": "code",
      "metadata": {
        "id": "duOs9KOfs5cZ",
        "colab_type": "code",
        "colab": {
          "base_uri": "https://localhost:8080/",
          "height": 50
        },
        "outputId": "1ad2a175-5d4c-4a71-8750-0da86882ad47"
      },
      "source": [
        "t.view(t.numel())"
      ],
      "execution_count": 15,
      "outputs": [
        {
          "output_type": "execute_result",
          "data": {
            "text/plain": [
              "tensor([1, 1, 1, 1, 1, 1, 1, 1, 1, 1, 1, 1, 1, 1, 1, 1, 2, 2, 2, 2, 2, 2, 2, 2,\n",
              "        2, 2, 2, 2, 2, 2, 2, 2, 3, 3, 3, 3, 3, 3, 3, 3, 3, 3, 3, 3, 3, 3, 3, 3])"
            ]
          },
          "metadata": {
            "tags": []
          },
          "execution_count": 15
        }
      ]
    },
    {
      "cell_type": "code",
      "metadata": {
        "id": "nQbpzjlttCe5",
        "colab_type": "code",
        "colab": {
          "base_uri": "https://localhost:8080/",
          "height": 50
        },
        "outputId": "f6b9e53d-dbea-4246-eaa9-3d96acaeafbf"
      },
      "source": [
        "t.flatten()"
      ],
      "execution_count": 16,
      "outputs": [
        {
          "output_type": "execute_result",
          "data": {
            "text/plain": [
              "tensor([1, 1, 1, 1, 1, 1, 1, 1, 1, 1, 1, 1, 1, 1, 1, 1, 2, 2, 2, 2, 2, 2, 2, 2,\n",
              "        2, 2, 2, 2, 2, 2, 2, 2, 3, 3, 3, 3, 3, 3, 3, 3, 3, 3, 3, 3, 3, 3, 3, 3])"
            ]
          },
          "metadata": {
            "tags": []
          },
          "execution_count": 16
        }
      ]
    },
    {
      "cell_type": "markdown",
      "metadata": {
        "id": "KL7LvPdttKCy",
        "colab_type": "text"
      },
      "source": [
        "this smashes all of the images from the batches into a single axis hence we are mixing the images this wont work "
      ]
    },
    {
      "cell_type": "markdown",
      "metadata": {
        "id": "UDW2bvybtnNV",
        "colab_type": "text"
      },
      "source": [
        "we want to flatten the color channel axis with the height and width axis"
      ]
    },
    {
      "cell_type": "code",
      "metadata": {
        "id": "TAUTwPentERu",
        "colab_type": "code",
        "colab": {
          "base_uri": "https://localhost:8080/",
          "height": 34
        },
        "outputId": "74812f68-8c1c-4b4d-ff54-213a74080241"
      },
      "source": [
        "t.flatten(start_dim=1).shape"
      ],
      "execution_count": 17,
      "outputs": [
        {
          "output_type": "execute_result",
          "data": {
            "text/plain": [
              "torch.Size([3, 16])"
            ]
          },
          "metadata": {
            "tags": []
          },
          "execution_count": 17
        }
      ]
    },
    {
      "cell_type": "code",
      "metadata": {
        "id": "XrsDtLbuux7Y",
        "colab_type": "code",
        "colab": {
          "base_uri": "https://localhost:8080/",
          "height": 67
        },
        "outputId": "978c0a85-24e3-48f7-9af4-a1e1f7c37d3b"
      },
      "source": [
        "t.flatten(start_dim=1)  #start_dim tells the flatten function where to start the flattening operation, 1 is our 2nd axis as dimensions start from 0"
      ],
      "execution_count": 18,
      "outputs": [
        {
          "output_type": "execute_result",
          "data": {
            "text/plain": [
              "tensor([[1, 1, 1, 1, 1, 1, 1, 1, 1, 1, 1, 1, 1, 1, 1, 1],\n",
              "        [2, 2, 2, 2, 2, 2, 2, 2, 2, 2, 2, 2, 2, 2, 2, 2],\n",
              "        [3, 3, 3, 3, 3, 3, 3, 3, 3, 3, 3, 3, 3, 3, 3, 3]])"
            ]
          },
          "metadata": {
            "tags": []
          },
          "execution_count": 18
        }
      ]
    },
    {
      "cell_type": "markdown",
      "metadata": {
        "id": "d-nKhETlvrLd",
        "colab_type": "text"
      },
      "source": [
        "trying above operation with reshape function"
      ]
    },
    {
      "cell_type": "code",
      "metadata": {
        "id": "gtLYdudWu2Yg",
        "colab_type": "code",
        "colab": {
          "base_uri": "https://localhost:8080/",
          "height": 67
        },
        "outputId": "968a8177-7724-4572-aafb-65cfb6a6b112"
      },
      "source": [
        "t.reshape([3,16])"
      ],
      "execution_count": 22,
      "outputs": [
        {
          "output_type": "execute_result",
          "data": {
            "text/plain": [
              "tensor([[1, 1, 1, 1, 1, 1, 1, 1, 1, 1, 1, 1, 1, 1, 1, 1],\n",
              "        [2, 2, 2, 2, 2, 2, 2, 2, 2, 2, 2, 2, 2, 2, 2, 2],\n",
              "        [3, 3, 3, 3, 3, 3, 3, 3, 3, 3, 3, 3, 3, 3, 3, 3]])"
            ]
          },
          "metadata": {
            "tags": []
          },
          "execution_count": 22
        }
      ]
    },
    {
      "cell_type": "markdown",
      "metadata": {
        "id": "_NjDy4jEAtH3",
        "colab_type": "text"
      },
      "source": [
        "# Video 12 Element wise operation and broadcasting"
      ]
    },
    {
      "cell_type": "markdown",
      "metadata": {
        "id": "-yK9xnFhXTEw",
        "colab_type": "text"
      },
      "source": [
        "blog post of the video http://deeplizard.com/learn/video/QscEWm0QTRY"
      ]
    },
    {
      "cell_type": "code",
      "metadata": {
        "id": "i0BpY3jwv8z4",
        "colab_type": "code",
        "colab": {}
      },
      "source": [
        "import torch\n",
        "import numpy as np"
      ],
      "execution_count": 0,
      "outputs": []
    },
    {
      "cell_type": "code",
      "metadata": {
        "id": "FtLr_01XA_jl",
        "colab_type": "code",
        "colab": {}
      },
      "source": [
        "t1=torch.tensor([[1,5], [7,8]], dtype=torch.float32)\n",
        "t2=torch.tensor([[9,2],[10,4]],dtype=torch.float32)"
      ],
      "execution_count": 0,
      "outputs": []
    },
    {
      "cell_type": "code",
      "metadata": {
        "id": "PeKvLSUWBGsS",
        "colab_type": "code",
        "colab": {
          "base_uri": "https://localhost:8080/",
          "height": 50
        },
        "outputId": "5c1314e1-fb69-4d0a-d37f-ae4e89c3bf0a"
      },
      "source": [
        "t1\n"
      ],
      "execution_count": 16,
      "outputs": [
        {
          "output_type": "execute_result",
          "data": {
            "text/plain": [
              "tensor([[1., 5.],\n",
              "        [7., 8.]])"
            ]
          },
          "metadata": {
            "tags": []
          },
          "execution_count": 16
        }
      ]
    },
    {
      "cell_type": "code",
      "metadata": {
        "id": "XwULfeLNCJcp",
        "colab_type": "code",
        "colab": {
          "base_uri": "https://localhost:8080/",
          "height": 50
        },
        "outputId": "0fd9f1de-baba-46ce-abba-a85d75108b30"
      },
      "source": [
        "t2"
      ],
      "execution_count": 17,
      "outputs": [
        {
          "output_type": "execute_result",
          "data": {
            "text/plain": [
              "tensor([[ 9.,  2.],\n",
              "        [10.,  4.]])"
            ]
          },
          "metadata": {
            "tags": []
          },
          "execution_count": 17
        }
      ]
    },
    {
      "cell_type": "markdown",
      "metadata": {
        "id": "akgEAIAPCeIG",
        "colab_type": "text"
      },
      "source": [
        "**Element wise operation\n",
        "Two tensor must have same shape and same no of axis and each of axes should have same length.**"
      ]
    },
    {
      "cell_type": "code",
      "metadata": {
        "id": "q-krfYptCZsk",
        "colab_type": "code",
        "colab": {
          "base_uri": "https://localhost:8080/",
          "height": 50
        },
        "outputId": "8e61f0b0-07f9-4e47-b282-f6cb443e5372"
      },
      "source": [
        "t1+t2"
      ],
      "execution_count": 18,
      "outputs": [
        {
          "output_type": "execute_result",
          "data": {
            "text/plain": [
              "tensor([[10.,  7.],\n",
              "        [17., 12.]])"
            ]
          },
          "metadata": {
            "tags": []
          },
          "execution_count": 18
        }
      ]
    },
    {
      "cell_type": "code",
      "metadata": {
        "id": "8uEIz5dCCo1F",
        "colab_type": "code",
        "colab": {
          "base_uri": "https://localhost:8080/",
          "height": 50
        },
        "outputId": "2bec7884-e44f-46ae-bf8d-a217bae8842b"
      },
      "source": [
        "t1-t2"
      ],
      "execution_count": 19,
      "outputs": [
        {
          "output_type": "execute_result",
          "data": {
            "text/plain": [
              "tensor([[-8.,  3.],\n",
              "        [-3.,  4.]])"
            ]
          },
          "metadata": {
            "tags": []
          },
          "execution_count": 19
        }
      ]
    },
    {
      "cell_type": "code",
      "metadata": {
        "id": "pOhVICXLDARH",
        "colab_type": "code",
        "colab": {
          "base_uri": "https://localhost:8080/",
          "height": 50
        },
        "outputId": "a37ccccc-5734-43b1-888b-909f1bdfbba3"
      },
      "source": [
        "t1*t2\n"
      ],
      "execution_count": 20,
      "outputs": [
        {
          "output_type": "execute_result",
          "data": {
            "text/plain": [
              "tensor([[ 9., 10.],\n",
              "        [70., 32.]])"
            ]
          },
          "metadata": {
            "tags": []
          },
          "execution_count": 20
        }
      ]
    },
    {
      "cell_type": "code",
      "metadata": {
        "id": "fk-OmH6FDB9Y",
        "colab_type": "code",
        "colab": {
          "base_uri": "https://localhost:8080/",
          "height": 50
        },
        "outputId": "2f8fc1b9-3450-4ad2-ce32-fd81711c541c"
      },
      "source": [
        "t1/t2"
      ],
      "execution_count": 21,
      "outputs": [
        {
          "output_type": "execute_result",
          "data": {
            "text/plain": [
              "tensor([[0.1111, 2.5000],\n",
              "        [0.7000, 2.0000]])"
            ]
          },
          "metadata": {
            "tags": []
          },
          "execution_count": 21
        }
      ]
    },
    {
      "cell_type": "markdown",
      "metadata": {
        "id": "Q3wSjo2bEIyn",
        "colab_type": "text"
      },
      "source": [
        "Elementwise operation with scalers"
      ]
    },
    {
      "cell_type": "code",
      "metadata": {
        "id": "b-LXntoFDDD-",
        "colab_type": "code",
        "colab": {
          "base_uri": "https://localhost:8080/",
          "height": 50
        },
        "outputId": "b03261df-2796-4130-f71e-df36b0b4f183"
      },
      "source": [
        "t1-2 # or t1.sub(2)"
      ],
      "execution_count": 22,
      "outputs": [
        {
          "output_type": "execute_result",
          "data": {
            "text/plain": [
              "tensor([[-1.,  3.],\n",
              "        [ 5.,  6.]])"
            ]
          },
          "metadata": {
            "tags": []
          },
          "execution_count": 22
        }
      ]
    },
    {
      "cell_type": "code",
      "metadata": {
        "id": "wG59VWqlENcg",
        "colab_type": "code",
        "colab": {
          "base_uri": "https://localhost:8080/",
          "height": 50
        },
        "outputId": "a2563f28-1b7d-47bc-ed9e-aa8c147fe0f6"
      },
      "source": [
        "t2+2 #or t2.add(2) similarly mul() and div()"
      ],
      "execution_count": 23,
      "outputs": [
        {
          "output_type": "execute_result",
          "data": {
            "text/plain": [
              "tensor([[11.,  4.],\n",
              "        [12.,  6.]])"
            ]
          },
          "metadata": {
            "tags": []
          },
          "execution_count": 23
        }
      ]
    },
    {
      "cell_type": "markdown",
      "metadata": {
        "id": "GOV2UhFXLQWJ",
        "colab_type": "text"
      },
      "source": [
        "How scalers can operate on tensors in elementwise operations  when we need  tensors of same shape??\n",
        "scalers are rank 0 tensors so they have no shape. But this is not what exactly happens.\n",
        "What happens is **boradcasting**"
      ]
    },
    {
      "cell_type": "markdown",
      "metadata": {
        "id": "uh2tbDFGSeit",
        "colab_type": "text"
      },
      "source": [
        "Broadcasting is making the scalar of the same shape of tensor you want your scalar to operate on "
      ]
    },
    {
      "cell_type": "code",
      "metadata": {
        "id": "4h3vZEaILMTr",
        "colab_type": "code",
        "colab": {
          "base_uri": "https://localhost:8080/",
          "height": 50
        },
        "outputId": "f43c4f87-2d3e-4f45-f821-ac7d04713cce"
      },
      "source": [
        "t1+2"
      ],
      "execution_count": 24,
      "outputs": [
        {
          "output_type": "execute_result",
          "data": {
            "text/plain": [
              "tensor([[ 3.,  7.],\n",
              "        [ 9., 10.]])"
            ]
          },
          "metadata": {
            "tags": []
          },
          "execution_count": 24
        }
      ]
    },
    {
      "cell_type": "markdown",
      "metadata": {
        "id": "cp8nr43pSqGz",
        "colab_type": "text"
      },
      "source": [
        "what happens in the background is"
      ]
    },
    {
      "cell_type": "code",
      "metadata": {
        "id": "cARsGMe5SpNA",
        "colab_type": "code",
        "colab": {
          "base_uri": "https://localhost:8080/",
          "height": 50
        },
        "outputId": "408626eb-3a37-4daa-80a1-4cc12996aac1"
      },
      "source": [
        "np.broadcast_to(2, t1.shape) #broadcast 2 to the shape of tensor t1"
      ],
      "execution_count": 26,
      "outputs": [
        {
          "output_type": "execute_result",
          "data": {
            "text/plain": [
              "array([[2, 2],\n",
              "       [2, 2]])"
            ]
          },
          "metadata": {
            "tags": []
          },
          "execution_count": 26
        }
      ]
    },
    {
      "cell_type": "markdown",
      "metadata": {
        "id": "1z5LzNNdVhc2",
        "colab_type": "text"
      },
      "source": [
        "broadcasting a tensor can make elementwise operations between 2 tensors of different size possible. "
      ]
    },
    {
      "cell_type": "code",
      "metadata": {
        "id": "OKfRB5l7Sx70",
        "colab_type": "code",
        "colab": {}
      },
      "source": [
        "t1=torch.tensor([[2,4],[9,6]])"
      ],
      "execution_count": 0,
      "outputs": []
    },
    {
      "cell_type": "code",
      "metadata": {
        "id": "g1FQYx3KWG4p",
        "colab_type": "code",
        "colab": {
          "base_uri": "https://localhost:8080/",
          "height": 34
        },
        "outputId": "98128071-b104-4231-da3f-f86e36e11685"
      },
      "source": [
        "t1.shape"
      ],
      "execution_count": 28,
      "outputs": [
        {
          "output_type": "execute_result",
          "data": {
            "text/plain": [
              "torch.Size([2, 2])"
            ]
          },
          "metadata": {
            "tags": []
          },
          "execution_count": 28
        }
      ]
    },
    {
      "cell_type": "code",
      "metadata": {
        "id": "ceLQzEtGWJC8",
        "colab_type": "code",
        "colab": {}
      },
      "source": [
        "t2=torch.tensor([1,1])"
      ],
      "execution_count": 0,
      "outputs": []
    },
    {
      "cell_type": "code",
      "metadata": {
        "id": "F4iuSRWQWMLD",
        "colab_type": "code",
        "colab": {
          "base_uri": "https://localhost:8080/",
          "height": 34
        },
        "outputId": "58db7da9-084d-4971-f205-12add2f1f571"
      },
      "source": [
        "t2.shape"
      ],
      "execution_count": 30,
      "outputs": [
        {
          "output_type": "execute_result",
          "data": {
            "text/plain": [
              "torch.Size([2])"
            ]
          },
          "metadata": {
            "tags": []
          },
          "execution_count": 30
        }
      ]
    },
    {
      "cell_type": "code",
      "metadata": {
        "id": "RDQSIKrwWNnK",
        "colab_type": "code",
        "colab": {
          "base_uri": "https://localhost:8080/",
          "height": 50
        },
        "outputId": "a1b567c6-b0a6-40f9-e8f6-4a17c9849b4d"
      },
      "source": [
        "t1+t2"
      ],
      "execution_count": 31,
      "outputs": [
        {
          "output_type": "execute_result",
          "data": {
            "text/plain": [
              "tensor([[ 3,  5],\n",
              "        [10,  7]])"
            ]
          },
          "metadata": {
            "tags": []
          },
          "execution_count": 31
        }
      ]
    },
    {
      "cell_type": "markdown",
      "metadata": {
        "id": "mrmzzNGRWQeA",
        "colab_type": "text"
      },
      "source": [
        "what happened in the background is"
      ]
    },
    {
      "cell_type": "code",
      "metadata": {
        "id": "aISyExnuWPHg",
        "colab_type": "code",
        "colab": {
          "base_uri": "https://localhost:8080/",
          "height": 50
        },
        "outputId": "c7f7f892-dc34-487a-d12e-de1c22d18f20"
      },
      "source": [
        "np.broadcast_to(t2, t1.shape) #and then t1+t2"
      ],
      "execution_count": 33,
      "outputs": [
        {
          "output_type": "execute_result",
          "data": {
            "text/plain": [
              "array([[1, 1],\n",
              "       [1, 1]])"
            ]
          },
          "metadata": {
            "tags": []
          },
          "execution_count": 33
        }
      ]
    },
    {
      "cell_type": "markdown",
      "metadata": {
        "id": "FUqZrZUHXV6T",
        "colab_type": "text"
      },
      "source": [
        "Comparison operations\n",
        "they also have broadcasting in the background"
      ]
    },
    {
      "cell_type": "code",
      "metadata": {
        "id": "O2DIViFNWaTk",
        "colab_type": "code",
        "colab": {
          "base_uri": "https://localhost:8080/",
          "height": 50
        },
        "outputId": "67392000-3695-4d73-f31c-bf77b49a0300"
      },
      "source": [
        "t1\n"
      ],
      "execution_count": 34,
      "outputs": [
        {
          "output_type": "execute_result",
          "data": {
            "text/plain": [
              "tensor([[2, 4],\n",
              "        [9, 6]])"
            ]
          },
          "metadata": {
            "tags": []
          },
          "execution_count": 34
        }
      ]
    },
    {
      "cell_type": "code",
      "metadata": {
        "id": "hBG96_h-Xib8",
        "colab_type": "code",
        "colab": {
          "base_uri": "https://localhost:8080/",
          "height": 34
        },
        "outputId": "d7cdff4a-771d-4def-e01f-a44e9ff650c2"
      },
      "source": [
        "t2"
      ],
      "execution_count": 35,
      "outputs": [
        {
          "output_type": "execute_result",
          "data": {
            "text/plain": [
              "tensor([1, 1])"
            ]
          },
          "metadata": {
            "tags": []
          },
          "execution_count": 35
        }
      ]
    },
    {
      "cell_type": "code",
      "metadata": {
        "id": "li3zbhRMXkxM",
        "colab_type": "code",
        "colab": {
          "base_uri": "https://localhost:8080/",
          "height": 50
        },
        "outputId": "f108999f-f177-42cb-edd6-f7d547dea9d3"
      },
      "source": [
        "t1.gt(t2) #t2 is gettign groadcasted to the shape of t1 before comparison happens and then as t1>t2 in all the position a new tensor of same shape of t1 with all ones is returned"
      ],
      "execution_count": 37,
      "outputs": [
        {
          "output_type": "execute_result",
          "data": {
            "text/plain": [
              "tensor([[1, 1],\n",
              "        [1, 1]], dtype=torch.uint8)"
            ]
          },
          "metadata": {
            "tags": []
          },
          "execution_count": 37
        }
      ]
    },
    {
      "cell_type": "code",
      "metadata": {
        "id": "VOjIhA2RXoZL",
        "colab_type": "code",
        "colab": {
          "base_uri": "https://localhost:8080/",
          "height": 50
        },
        "outputId": "a2c336c7-b3c1-4881-bab8-0fa757d42e73"
      },
      "source": [
        "t2.eq(t1) #here t1 got broadcasted to the shape of t2"
      ],
      "execution_count": 39,
      "outputs": [
        {
          "output_type": "execute_result",
          "data": {
            "text/plain": [
              "tensor([[0, 0],\n",
              "        [0, 0]], dtype=torch.uint8)"
            ]
          },
          "metadata": {
            "tags": []
          },
          "execution_count": 39
        }
      ]
    },
    {
      "cell_type": "markdown",
      "metadata": {
        "id": "3298_xmGYNWO",
        "colab_type": "text"
      },
      "source": [
        "# Video 13 argmax and reduction tensor ops"
      ]
    },
    {
      "cell_type": "markdown",
      "metadata": {
        "id": "ld7eUkrea6Bl",
        "colab_type": "text"
      },
      "source": [
        "Reduction operation reduces the number of elements present in a tensor\n",
        "elementwise operations need two tensors to opearte element wise in between them.\n",
        "Reuction operation operates on elements of same tensor to reduce the number of elements in the tensor"
      ]
    },
    {
      "cell_type": "code",
      "metadata": {
        "id": "ZUwBAj9xX40v",
        "colab_type": "code",
        "colab": {
          "base_uri": "https://localhost:8080/",
          "height": 67
        },
        "outputId": "3c31e2af-ee7f-40c0-fcb4-fdb106347cd7"
      },
      "source": [
        "t1=torch.tensor([[3,3,4],[5,7,9],[-1,-5,3]])\n",
        "t1"
      ],
      "execution_count": 41,
      "outputs": [
        {
          "output_type": "execute_result",
          "data": {
            "text/plain": [
              "tensor([[ 3,  3,  4],\n",
              "        [ 5,  7,  9],\n",
              "        [-1, -5,  3]])"
            ]
          },
          "metadata": {
            "tags": []
          },
          "execution_count": 41
        }
      ]
    },
    {
      "cell_type": "code",
      "metadata": {
        "id": "x7XHy_tAe-5k",
        "colab_type": "code",
        "colab": {
          "base_uri": "https://localhost:8080/",
          "height": 34
        },
        "outputId": "bb522fba-09b0-4609-cb73-3f296f80ed39"
      },
      "source": [
        "t1.sum() #sum of the all elements of the tensor(reduces the number of elemts from 9 to 1)"
      ],
      "execution_count": 43,
      "outputs": [
        {
          "output_type": "execute_result",
          "data": {
            "text/plain": [
              "tensor(28)"
            ]
          },
          "metadata": {
            "tags": []
          },
          "execution_count": 43
        }
      ]
    },
    {
      "cell_type": "code",
      "metadata": {
        "id": "bds4mky1fFO1",
        "colab_type": "code",
        "colab": {
          "base_uri": "https://localhost:8080/",
          "height": 34
        },
        "outputId": "719a7f0c-8a42-4af6-e4cf-b689fd2f926d"
      },
      "source": [
        "t1.numel() #no of elemts in tensor, reduces the number of elemts from 9 to 1"
      ],
      "execution_count": 46,
      "outputs": [
        {
          "output_type": "execute_result",
          "data": {
            "text/plain": [
              "9"
            ]
          },
          "metadata": {
            "tags": []
          },
          "execution_count": 46
        }
      ]
    },
    {
      "cell_type": "code",
      "metadata": {
        "id": "Z568Nyn9fMjL",
        "colab_type": "code",
        "colab": {}
      },
      "source": [
        "t1.sum()numel()<t1.numel()"
      ],
      "execution_count": 0,
      "outputs": []
    },
    {
      "cell_type": "code",
      "metadata": {
        "id": "RzxhMuxkfdGd",
        "colab_type": "code",
        "colab": {}
      },
      "source": [
        ""
      ],
      "execution_count": 0,
      "outputs": []
    }
  ]
}
