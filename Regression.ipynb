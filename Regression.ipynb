{
  "nbformat": 4,
  "nbformat_minor": 0,
  "metadata": {
    "colab": {
      "name": "Regression",
      "version": "0.3.2",
      "provenance": [],
      "collapsed_sections": [],
      "include_colab_link": true
    },
    "kernelspec": {
      "name": "python3",
      "display_name": "Python 3"
    }
  },
  "cells": [
    {
      "cell_type": "markdown",
      "metadata": {
        "id": "view-in-github",
        "colab_type": "text"
      },
      "source": [
        "<a href=\"https://colab.research.google.com/github/mvish7/PyTorch/blob/master/Regression.ipynb\" target=\"_parent\"><img src=\"https://colab.research.google.com/assets/colab-badge.svg\" alt=\"Open In Colab\"/></a>"
      ]
    },
    {
      "cell_type": "markdown",
      "metadata": {
        "id": "tb4vpoPT1nXT",
        "colab_type": "text"
      },
      "source": [
        " The objective of the regression task is to explain and make adequate predictions based on the linear relation with an independent variable\n",
        " \n",
        " The simplest form of the linear regression equation is defined by:\n",
        "\n",
        "Ŷ = bX + a + e\n",
        "where,\n",
        "\n",
        "\n",
        "\n",
        "Ŷ = Predicted value of Y\n",
        "\n",
        "X = Independent variable\n",
        "\n",
        "b = Slope coefficient based on best-fitting line\n",
        "\n",
        "a = Y-axis intercept\n",
        "\n",
        "e = Error term\n",
        "\n",
        "\n"
      ]
    },
    {
      "cell_type": "markdown",
      "metadata": {
        "id": "C0av7aJ_2VTI",
        "colab_type": "text"
      },
      "source": [
        "**Model Structure**\n"
      ]
    },
    {
      "cell_type": "code",
      "metadata": {
        "id": "_wdYSQhXRO78",
        "colab_type": "code",
        "colab": {}
      },
      "source": [
        "import torch\n",
        "from torch.autograd import Variable\n",
        "from torch.nn import functional as F\n",
        "import matplotlib.pyplot as plt"
      ],
      "execution_count": 0,
      "outputs": []
    },
    {
      "cell_type": "code",
      "metadata": {
        "id": "hOMLta51_i-e",
        "colab_type": "code",
        "colab": {}
      },
      "source": [
        "x_data = Variable(torch.Tensor([[10.0], [9.0], [3.0], [2.0]]))"
      ],
      "execution_count": 0,
      "outputs": []
    },
    {
      "cell_type": "code",
      "metadata": {
        "id": "AVhuNH6LBMfq",
        "colab_type": "code",
        "colab": {}
      },
      "source": [
        "y_data = Variable(torch.Tensor([[90.0], [80.0], [50.0], [30.0]]))"
      ],
      "execution_count": 0,
      "outputs": []
    },
    {
      "cell_type": "markdown",
      "metadata": {
        "id": "UsSeoING207l",
        "colab_type": "text"
      },
      "source": [
        "In order to set up the model class, we need to initialize the model type and declare the forward pass. Since our model takes one independent variable and makes one prediction for the Ŷ variable at a time, we initialize our model with this linear layer: torch.nn.Linear(1, 1) , where the first 1 is for the input size, and the second 1 is for the output size.\n",
        "\n",
        "\n",
        "---\n",
        "\n",
        "Next is to define the forward pass function. The forward pass refers to the calculation process of the output data from the input. We simply define as below. The function takes x as its input and outputs the predicted value of Y, y_pred ."
      ]
    },
    {
      "cell_type": "code",
      "metadata": {
        "id": "585YTKB52smQ",
        "colab_type": "code",
        "colab": {}
      },
      "source": [
        "class LinearRegression(torch.nn.Module):\n",
        "    def __init__(self):\n",
        "        super(LinearRegression, self).__init__()\n",
        "        self.linear = torch.nn.Linear(1, 1)\n",
        "        \n",
        "    def forward(self, x):\n",
        "        y_pred = self.linear(x)\n",
        "        return y_pred\n",
        "      \n",
        "model = LinearRegression()"
      ],
      "execution_count": 0,
      "outputs": []
    },
    {
      "cell_type": "markdown",
      "metadata": {
        "id": "gll7quFs5c02",
        "colab_type": "text"
      },
      "source": [
        "super():  at a high level super() gives you access to methods in a superclass from the subclass that inherits from it.\n",
        "more into at https://realpython.com/python-super/"
      ]
    },
    {
      "cell_type": "markdown",
      "metadata": {
        "id": "svGsiRfj5on_",
        "colab_type": "text"
      },
      "source": [
        "**Loss Function (Criterion)**"
      ]
    },
    {
      "cell_type": "code",
      "metadata": {
        "id": "GmqzfGSy4Shm",
        "colab_type": "code",
        "colab": {}
      },
      "source": [
        "criterion = torch.nn.MSELoss(reduction='sum') \n",
        "#about MSE loss https://pytorch.org/docs/stable/nn.html#torch.nn.MSELoss"
      ],
      "execution_count": 0,
      "outputs": []
    },
    {
      "cell_type": "markdown",
      "metadata": {
        "id": "fY1scGTU9Uf8",
        "colab_type": "text"
      },
      "source": [
        "Next, we will use Stochastic Gradient Descent (SGD) optimizer for the update of hyperparameters. model.parameters() will provide the learnable parameters to the optimizer and lr=0.01 defines the learning rates for the parameter updates."
      ]
    },
    {
      "cell_type": "code",
      "metadata": {
        "id": "_KA7Wy-d5s3K",
        "colab_type": "code",
        "colab": {}
      },
      "source": [
        "optimizer = torch.optim.SGD(model.parameters(), lr=0.01)\n",
        "#about optimisers https://pytorch.org/docs/stable/optim.html"
      ],
      "execution_count": 0,
      "outputs": []
    },
    {
      "cell_type": "markdown",
      "metadata": {
        "id": "9l2Cp60O-mBL",
        "colab_type": "text"
      },
      "source": [
        "**model training**"
      ]
    },
    {
      "cell_type": "code",
      "metadata": {
        "id": "nmodN7GP96X_",
        "colab_type": "code",
        "colab": {}
      },
      "source": [
        "for epoch in range(20):\n",
        "    model.train()\n",
        "    optimizer.zero_grad()\n",
        "    \n",
        "    # Forward pass\n",
        "    y_pred = model(x_data)\n",
        "    \n",
        "    # Compute Loss\n",
        "    loss = criterion(y_pred, y_data)\n",
        "    \n",
        "    # Backward pass\n",
        "    loss.backward()\n",
        "    optimizer.step()"
      ],
      "execution_count": 0,
      "outputs": []
    },
    {
      "cell_type": "markdown",
      "metadata": {
        "id": "O_tdfm4O_E-s",
        "colab_type": "text"
      },
      "source": [
        "We first need to set our gradient to zero: optimizer.zero_grad() . This is because every time a variable is back propagated through, the gradient will be accumulated instead of being replaced.\n",
        "\n",
        "\n",
        "---\n",
        "\n",
        "Then optimizer.step() performs a parameter update based on the current gradient.\n"
      ]
    },
    {
      "cell_type": "code",
      "metadata": {
        "id": "1pra6l4M_b7T",
        "colab_type": "code",
        "outputId": "a28bf3ba-c660-434b-cd8f-c1c2f2e9a9f3",
        "colab": {
          "base_uri": "https://localhost:8080/",
          "height": 34
        }
      },
      "source": [
        "new_x = Variable(torch.Tensor([[45.0]]))\n",
        "y_pred = model(new_x)\n",
        "print(\"predicted Y value: \", y_pred.data[0][0])"
      ],
      "execution_count": 0,
      "outputs": [
        {
          "output_type": "stream",
          "text": [
            "predicted Y value:  tensor(-1.0459e+12)\n"
          ],
          "name": "stdout"
        }
      ]
    },
    {
      "cell_type": "code",
      "metadata": {
        "id": "0CIXzBOUTLSB",
        "colab_type": "code",
        "outputId": "2bb6234a-07ff-4a15-bd9d-bb279936c6b3",
        "colab": {
          "base_uri": "https://localhost:8080/",
          "height": 84
        }
      },
      "source": [
        "x_data.data.numpy()"
      ],
      "execution_count": 0,
      "outputs": [
        {
          "output_type": "execute_result",
          "data": {
            "text/plain": [
              "array([[10.],\n",
              "       [ 9.],\n",
              "       [ 3.],\n",
              "       [ 2.]], dtype=float32)"
            ]
          },
          "metadata": {
            "tags": []
          },
          "execution_count": 27
        }
      ]
    },
    {
      "cell_type": "code",
      "metadata": {
        "id": "Z3OWZ72YTQZY",
        "colab_type": "code",
        "outputId": "7a7c6138-b046-4b07-b106-35c780b6b755",
        "colab": {
          "base_uri": "https://localhost:8080/",
          "height": 84
        }
      },
      "source": [
        "y_data.data.numpy()"
      ],
      "execution_count": 0,
      "outputs": [
        {
          "output_type": "execute_result",
          "data": {
            "text/plain": [
              "array([[90.],\n",
              "       [80.],\n",
              "       [50.],\n",
              "       [30.]], dtype=float32)"
            ]
          },
          "metadata": {
            "tags": []
          },
          "execution_count": 28
        }
      ]
    },
    {
      "cell_type": "code",
      "metadata": {
        "id": "7n2vdWE0BXAW",
        "colab_type": "code",
        "outputId": "93570bbf-0b7e-442c-890e-4203b2eda5c0",
        "colab": {
          "base_uri": "https://localhost:8080/",
          "height": 301
        }
      },
      "source": [
        "plt.plot(y_data.data.numpy(),x_data.data.numpy())\n",
        "plt.xlabel('x_data')\n",
        "plt.ylabel('y_data')"
      ],
      "execution_count": 0,
      "outputs": [
        {
          "output_type": "execute_result",
          "data": {
            "text/plain": [
              "Text(0, 0.5, 'y_data')"
            ]
          },
          "metadata": {
            "tags": []
          },
          "execution_count": 31
        },
        {
          "output_type": "display_data",
          "data": {
            "image/png": "[encoded data removed]",
            "text/plain": [
              "<Figure size 432x288 with 1 Axes>"
            ]
          },
          "metadata": {
            "tags": []
          }
        }
      ]
    },
    {
      "cell_type": "code",
      "metadata": {
        "id": "xi2cPaQ8SQaw",
        "colab_type": "code",
        "colab": {}
      },
      "source": [
        "t=torch.as_tensor([[2,3],[4,6],[67,98],[1,90]])\n",
        "a=t.data"
      ],
      "execution_count": 0,
      "outputs": []
    },
    {
      "cell_type": "markdown",
      "metadata": {
        "id": "zMAJ5BBtp9Ik",
        "colab_type": "text"
      },
      "source": [
        "\n",
        "\n",
        "---\n",
        "\n"
      ]
    },
    {
      "cell_type": "markdown",
      "metadata": {
        "id": "bR6Y4FVnqB1_",
        "colab_type": "text"
      },
      "source": [
        "**Linear regression once again-- robert alvarez tutorials**"
      ]
    },
    {
      "cell_type": "code",
      "metadata": {
        "id": "WF6tXxYPqAX4",
        "colab_type": "code",
        "colab": {}
      },
      "source": [
        "import torch\n",
        "import numpy as np\n",
        "import torch.nn as nn\n",
        "from torch.autograd import Variable\n",
        "import torch.nn.functional as F\n",
        "from torch.utils.data import Dataset, DataLoader\n",
        "import torchvision\n",
        "from torchvision import datasets, models, transforms\n",
        "from cycler import cycler\n",
        "\n",
        "\n",
        "# minor changes to plotting functions\n",
        "import matplotlib.pyplot as plt\n",
        "cmap=plt.cm.tab10\n",
        "c = cycler('color', cmap(np.linspace(0,1,10)))\n",
        "plt.rcParams[\"axes.prop_cycle\"] = c\n"
      ],
      "execution_count": 0,
      "outputs": []
    },
    {
      "cell_type": "code",
      "metadata": {
        "id": "vBx0RNqmrRY2",
        "colab_type": "code",
        "colab": {
          "base_uri": "https://localhost:8080/",
          "height": 477
        },
        "outputId": "6e7cb84a-7d85-4cf7-eb8f-b81ec2b8e785"
      },
      "source": [
        "import pixiedust"
      ],
      "execution_count": 7,
      "outputs": [
        {
          "output_type": "stream",
          "text": [
            "Pixiedust database opened successfully\n",
            "Table VERSION_TRACKER created successfully\n",
            "Table METRICS_TRACKER created successfully\n",
            "\n",
            "Share anonymous install statistics? (opt-out instructions)\n",
            "\n",
            "PixieDust will record metadata on its environment the next time the package is installed or updated. The data is anonymized and aggregated to help plan for future releases, and records only the following values:\n",
            "\n",
            "{\n",
            "   \"data_sent\": currentDate,\n",
            "   \"runtime\": \"python\",\n",
            "   \"application_version\": currentPixiedustVersion,\n",
            "   \"space_id\": nonIdentifyingUniqueId,\n",
            "   \"config\": {\n",
            "       \"repository_id\": \"https://github.com/ibm-watson-data-lab/pixiedust\",\n",
            "       \"target_runtimes\": [\"Data Science Experience\"],\n",
            "       \"event_id\": \"web\",\n",
            "       \"event_organizer\": \"dev-journeys\"\n",
            "   }\n",
            "}\n",
            "You can opt out by calling pixiedust.optOut() in a new cell.\n"
          ],
          "name": "stdout"
        },
        {
          "output_type": "display_data",
          "data": {
            "text/html": [
              "\n",
              "        <div style=\"margin:10px\">\n",
              "            <a href=\"https://github.com/ibm-watson-data-lab/pixiedust\" target=\"_new\">\n",
              "                <img src=\"https://github.com/ibm-watson-data-lab/pixiedust/raw/master/docs/_static/pd_icon32.png\" style=\"float:left;margin-right:10px\"/>\n",
              "            </a>\n",
              "            <span>Pixiedust version 1.1.17</span>\n",
              "        </div>\n",
              "        "
            ],
            "text/plain": [
              "<IPython.core.display.HTML object>"
            ]
          },
          "metadata": {
            "tags": []
          }
        },
        {
          "output_type": "stream",
          "text": [
            "\u001b[31mPixiedust runtime updated. Please restart kernel\u001b[0m\n",
            "Table USER_PREFERENCES created successfully\n",
            "Table service_connections created successfully\n"
          ],
          "name": "stdout"
        }
      ]
    },
    {
      "cell_type": "code",
      "metadata": {
        "id": "xFOLx41orWES",
        "colab_type": "code",
        "colab": {
          "base_uri": "https://localhost:8080/",
          "height": 101
        },
        "outputId": "711520b2-2b54-4d7d-b85e-ee6d79442e19"
      },
      "source": [
        "n=1000\n",
        "x=torch.torch.ones(n,2)\n",
        "x[:,0].uniform_(-1.,1)  # indexing the 1st column of the tensor as setting it's values uniformly distributed over -1 to 1\n",
        "x[:5]  #printing the 1st 5 rows"
      ],
      "execution_count": 18,
      "outputs": [
        {
          "output_type": "execute_result",
          "data": {
            "text/plain": [
              "tensor([[ 6.7039e-02,  1.0000e+00],\n",
              "        [ 2.4402e-04,  1.0000e+00],\n",
              "        [ 3.4794e-01,  1.0000e+00],\n",
              "        [-9.6988e-01,  1.0000e+00],\n",
              "        [ 5.5648e-01,  1.0000e+00]])"
            ]
          },
          "metadata": {
            "tags": []
          },
          "execution_count": 18
        }
      ]
    },
    {
      "cell_type": "code",
      "metadata": {
        "id": "h3Napuz7t3_x",
        "colab_type": "code",
        "colab": {
          "base_uri": "https://localhost:8080/",
          "height": 34
        },
        "outputId": "086b85f7-6fc9-4b08-ba3f-a2c4b3f98884"
      },
      "source": [
        "a = torch.tensor([3.,2]);\n",
        "a"
      ],
      "execution_count": 20,
      "outputs": [
        {
          "output_type": "execute_result",
          "data": {
            "text/plain": [
              "tensor([3., 2.])"
            ]
          },
          "metadata": {
            "tags": []
          },
          "execution_count": 20
        }
      ]
    },
    {
      "cell_type": "code",
      "metadata": {
        "id": "TBxEoImst5sl",
        "colab_type": "code",
        "colab": {}
      },
      "source": [
        "y = x@a+torch.randn(n)/3 #creating the lable (y) for our input(x), @ is a matrix multiplication\n"
      ],
      "execution_count": 0,
      "outputs": []
    },
    {
      "cell_type": "code",
      "metadata": {
        "id": "z9cEySnt3Pb3",
        "colab_type": "code",
        "colab": {
          "base_uri": "https://localhost:8080/",
          "height": 269
        },
        "outputId": "0c8f9fa0-16f7-43a2-b0c7-7fe077faf683"
      },
      "source": [
        "plt.scatter(x[:,0], y);  # plotting 1st column of x vs y"
      ],
      "execution_count": 28,
      "outputs": [
        {
          "output_type": "display_data",
          "data": {
            "image/png": "[encoded data removed]",
            "text/plain": [
              "<Figure size 432x288 with 1 Axes>"
            ]
          },
          "metadata": {
            "tags": []
          }
        }
      ]
    },
    {
      "cell_type": "code",
      "metadata": {
        "id": "lBabgWKf8yur",
        "colab_type": "code",
        "colab": {}
      },
      "source": [
        "def mse(y, y_pred): \n",
        "    return ((y - y_pred)**2).mean()  #defining loss fun its MSE"
      ],
      "execution_count": 0,
      "outputs": []
    },
    {
      "cell_type": "code",
      "metadata": {
        "id": "UuSi-M8t9EE7",
        "colab_type": "code",
        "colab": {}
      },
      "source": [
        "a_guess = torch.tensor([-1.,1])"
      ],
      "execution_count": 0,
      "outputs": []
    },
    {
      "cell_type": "code",
      "metadata": {
        "id": "RhfiJ7mS9Uzn",
        "colab_type": "code",
        "colab": {
          "base_uri": "https://localhost:8080/",
          "height": 34
        },
        "outputId": "43a31835-3779-4c04-c72f-c19d0bf31687"
      },
      "source": [
        "y_hat = x@a # @ is matrix multiplication\n",
        "mse(y_hat, y)"
      ],
      "execution_count": 32,
      "outputs": [
        {
          "output_type": "execute_result",
          "data": {
            "text/plain": [
              "tensor(0.1102)"
            ]
          },
          "metadata": {
            "tags": []
          },
          "execution_count": 32
        }
      ]
    },
    {
      "cell_type": "code",
      "metadata": {
        "id": "RL5tVFnm9dRV",
        "colab_type": "code",
        "colab": {
          "base_uri": "https://localhost:8080/",
          "height": 286
        },
        "outputId": "9090c980-3e67-473b-932d-a549e18192a3"
      },
      "source": [
        "plt.scatter(x[:,0],y)\n"
      ],
      "execution_count": 33,
      "outputs": [
        {
          "output_type": "execute_result",
          "data": {
            "text/plain": [
              "<matplotlib.collections.PathCollection at 0x7f48353e18d0>"
            ]
          },
          "metadata": {
            "tags": []
          },
          "execution_count": 33
        },
        {
          "output_type": "display_data",
          "data": {
            "image/png": "[encoded data removed]",
            "text/plain": [
              "<Figure size 432x288 with 1 Axes>"
            ]
          },
          "metadata": {
            "tags": []
          }
        }
      ]
    },
    {
      "cell_type": "code",
      "metadata": {
        "id": "WPH1CCMI9iIK",
        "colab_type": "code",
        "colab": {
          "base_uri": "https://localhost:8080/",
          "height": 269
        },
        "outputId": "335da973-f76d-4b78-d066-c0a97ffbd7b3"
      },
      "source": [
        "plt.scatter(x[:,0],y_hat);"
      ],
      "execution_count": 34,
      "outputs": [
        {
          "output_type": "display_data",
          "data": {
            "image/png": "[encoded data removed]",
            "text/plain": [
              "<Figure size 432x288 with 1 Axes>"
            ]
          },
          "metadata": {
            "tags": []
          }
        }
      ]
    },
    {
      "cell_type": "code",
      "metadata": {
        "id": "dRGf5JMq9jHn",
        "colab_type": "code",
        "colab": {
          "base_uri": "https://localhost:8080/",
          "height": 50
        },
        "outputId": "ee32487f-4e9c-45ee-8776-97efcd6df8b1"
      },
      "source": [
        "\n",
        "a_guess = nn.Parameter(a_guess)\n",
        "a_guess"
      ],
      "execution_count": 35,
      "outputs": [
        {
          "output_type": "execute_result",
          "data": {
            "text/plain": [
              "Parameter containing:\n",
              "tensor([-1.,  1.], requires_grad=True)"
            ]
          },
          "metadata": {
            "tags": []
          },
          "execution_count": 35
        }
      ]
    },
    {
      "cell_type": "code",
      "metadata": {
        "id": "WKlvOpiB9qgU",
        "colab_type": "code",
        "colab": {}
      },
      "source": [
        "def update():\n",
        "    '''\n",
        "    function to update tensor using SGD\n",
        "    '''\n",
        "    y_hat = x@a_guess\n",
        "    loss = mse(y, y_hat)\n",
        "    if t % 10 == 0: print(loss)\n",
        "    loss.backward()\n",
        "    with torch.no_grad():\n",
        "        a_guess.sub_(lr * a_guess.grad)\n",
        "        a_guess.grad.zero_()"
      ],
      "execution_count": 0,
      "outputs": []
    },
    {
      "cell_type": "code",
      "metadata": {
        "id": "xkv9XAb-_c84",
        "colab_type": "code",
        "colab": {
          "base_uri": "https://localhost:8080/",
          "height": 185
        },
        "outputId": "c3031128-c383-4946-9641-0cfebd18efce"
      },
      "source": [
        "lr = 1e-1\n",
        "for t in range(100): \n",
        "    update()"
      ],
      "execution_count": 44,
      "outputs": [
        {
          "output_type": "stream",
          "text": [
            "tensor(6.5078, grad_fn=<MeanBackward0>)\n",
            "tensor(1.4614, grad_fn=<MeanBackward0>)\n",
            "tensor(0.4378, grad_fn=<MeanBackward0>)\n",
            "tensor(0.1901, grad_fn=<MeanBackward0>)\n",
            "tensor(0.1296, grad_fn=<MeanBackward0>)\n",
            "tensor(0.1148, grad_fn=<MeanBackward0>)\n",
            "tensor(0.1112, grad_fn=<MeanBackward0>)\n",
            "tensor(0.1103, grad_fn=<MeanBackward0>)\n",
            "tensor(0.1101, grad_fn=<MeanBackward0>)\n",
            "tensor(0.1100, grad_fn=<MeanBackward0>)\n"
          ],
          "name": "stdout"
        }
      ]
    },
    {
      "cell_type": "code",
      "metadata": {
        "id": "gPW8UwYW_3wh",
        "colab_type": "code",
        "colab": {
          "base_uri": "https://localhost:8080/",
          "height": 269
        },
        "outputId": "51b2dc89-49a2-439f-c9a5-4926152431c0"
      },
      "source": [
        "\n",
        "plt.scatter(x[:,0], y)\n",
        "plt.scatter(x[:,0], x@a_guess.detach()); # detach() removes gradient from `a` so it can be plotted. otherwise matplotlib gives error"
      ],
      "execution_count": 45,
      "outputs": [
        {
          "output_type": "display_data",
          "data": {
            "image/png": "[encoded data removed]",
            "text/plain": [
              "<Figure size 432x288 with 1 Axes>"
            ]
          },
          "metadata": {
            "tags": []
          }
        }
      ]
    },
    {
      "cell_type": "code",
      "metadata": {
        "id": "zTpstqPyBdRQ",
        "colab_type": "code",
        "colab": {}
      },
      "source": [
        ""
      ],
      "execution_count": 0,
      "outputs": []
    }
  ]
}