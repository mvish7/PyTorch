{
  "nbformat": 4,
  "nbformat_minor": 0,
  "metadata": {
    "colab": {
      "name": "Regression",
      "version": "0.3.2",
      "provenance": [],
      "collapsed_sections": [],
      "include_colab_link": true
    },
    "kernelspec": {
      "name": "python3",
      "display_name": "Python 3"
    }
  },
  "cells": [
    {
      "cell_type": "markdown",
      "metadata": {
        "id": "view-in-github",
        "colab_type": "text"
      },
      "source": [
        "<a href=\"https://colab.research.google.com/github/mvish7/PyTorch/blob/master/Regression.ipynb\" target=\"_parent\"><img src=\"https://colab.research.google.com/assets/colab-badge.svg\" alt=\"Open In Colab\"/></a>"
      ]
    },
    {
      "cell_type": "markdown",
      "metadata": {
        "id": "tb4vpoPT1nXT",
        "colab_type": "text"
      },
      "source": [
        " The objective of the regression task is to explain and make adequate predictions based on the linear relation with an independent variable\n",
        " \n",
        " The simplest form of the linear regression equation is defined by:\n",
        "\n",
        "Ŷ = bX + a + e\n",
        "where,\n",
        "\n",
        "\n",
        "\n",
        "Ŷ = Predicted value of Y\n",
        "\n",
        "X = Independent variable\n",
        "\n",
        "b = Slope coefficient based on best-fitting line\n",
        "\n",
        "a = Y-axis intercept\n",
        "\n",
        "e = Error term\n",
        "\n",
        "\n"
      ]
    },
    {
      "cell_type": "markdown",
      "metadata": {
        "id": "C0av7aJ_2VTI",
        "colab_type": "text"
      },
      "source": [
        "**Model Structure**\n"
      ]
    },
    {
      "cell_type": "code",
      "metadata": {
        "id": "_wdYSQhXRO78",
        "colab_type": "code",
        "colab": {}
      },
      "source": [
        "import torch\n",
        "from torch.autograd import Variable\n",
        "from torch.nn import functional as F\n",
        "import matplotlib.pyplot as plt"
      ],
      "execution_count": 0,
      "outputs": []
    },
    {
      "cell_type": "code",
      "metadata": {
        "id": "hOMLta51_i-e",
        "colab_type": "code",
        "colab": {}
      },
      "source": [
        "x_data = Variable(torch.Tensor([[10.0], [9.0], [3.0], [2.0]]))"
      ],
      "execution_count": 0,
      "outputs": []
    },
    {
      "cell_type": "code",
      "metadata": {
        "id": "AVhuNH6LBMfq",
        "colab_type": "code",
        "colab": {}
      },
      "source": [
        "y_data = Variable(torch.Tensor([[90.0], [80.0], [50.0], [30.0]]))"
      ],
      "execution_count": 0,
      "outputs": []
    },
    {
      "cell_type": "markdown",
      "metadata": {
        "id": "UsSeoING207l",
        "colab_type": "text"
      },
      "source": [
        "In order to set up the model class, we need to initialize the model type and declare the forward pass. Since our model takes one independent variable and makes one prediction for the Ŷ variable at a time, we initialize our model with this linear layer: torch.nn.Linear(1, 1) , where the first 1 is for the input size, and the second 1 is for the output size.\n",
        "\n",
        "\n",
        "---\n",
        "\n",
        "Next is to define the forward pass function. The forward pass refers to the calculation process of the output data from the input. We simply define as below. The function takes x as its input and outputs the predicted value of Y, y_pred ."
      ]
    },
    {
      "cell_type": "code",
      "metadata": {
        "id": "585YTKB52smQ",
        "colab_type": "code",
        "colab": {}
      },
      "source": [
        "class LinearRegression(torch.nn.Module):\n",
        "    def __init__(self):\n",
        "        super(LinearRegression, self).__init__()\n",
        "        self.linear = torch.nn.Linear(1, 1)\n",
        "        \n",
        "    def forward(self, x):\n",
        "        y_pred = self.linear(x)\n",
        "        return y_pred\n",
        "      \n",
        "model = LinearRegression()"
      ],
      "execution_count": 0,
      "outputs": []
    },
    {
      "cell_type": "markdown",
      "metadata": {
        "id": "gll7quFs5c02",
        "colab_type": "text"
      },
      "source": [
        "super():  at a high level super() gives you access to methods in a superclass from the subclass that inherits from it.\n",
        "more into at https://realpython.com/python-super/"
      ]
    },
    {
      "cell_type": "markdown",
      "metadata": {
        "id": "svGsiRfj5on_",
        "colab_type": "text"
      },
      "source": [
        "**Loss Function (Criterion)**"
      ]
    },
    {
      "cell_type": "code",
      "metadata": {
        "id": "GmqzfGSy4Shm",
        "colab_type": "code",
        "colab": {}
      },
      "source": [
        "criterion = torch.nn.MSELoss(reduction='sum') \n",
        "#about MSE loss https://pytorch.org/docs/stable/nn.html#torch.nn.MSELoss"
      ],
      "execution_count": 0,
      "outputs": []
    },
    {
      "cell_type": "markdown",
      "metadata": {
        "id": "fY1scGTU9Uf8",
        "colab_type": "text"
      },
      "source": [
        "Next, we will use Stochastic Gradient Descent (SGD) optimizer for the update of hyperparameters. model.parameters() will provide the learnable parameters to the optimizer and lr=0.01 defines the learning rates for the parameter updates."
      ]
    },
    {
      "cell_type": "code",
      "metadata": {
        "id": "_KA7Wy-d5s3K",
        "colab_type": "code",
        "colab": {}
      },
      "source": [
        "optimizer = torch.optim.SGD(model.parameters(), lr=0.01)\n",
        "#about optimisers https://pytorch.org/docs/stable/optim.html"
      ],
      "execution_count": 0,
      "outputs": []
    },
    {
      "cell_type": "markdown",
      "metadata": {
        "id": "9l2Cp60O-mBL",
        "colab_type": "text"
      },
      "source": [
        "**model training**"
      ]
    },
    {
      "cell_type": "code",
      "metadata": {
        "id": "nmodN7GP96X_",
        "colab_type": "code",
        "colab": {}
      },
      "source": [
        "for epoch in range(20):\n",
        "    model.train()\n",
        "    optimizer.zero_grad()\n",
        "    \n",
        "    # Forward pass\n",
        "    y_pred = model(x_data)\n",
        "    \n",
        "    # Compute Loss\n",
        "    loss = criterion(y_pred, y_data)\n",
        "    \n",
        "    # Backward pass\n",
        "    loss.backward()\n",
        "    optimizer.step()"
      ],
      "execution_count": 0,
      "outputs": []
    },
    {
      "cell_type": "markdown",
      "metadata": {
        "id": "O_tdfm4O_E-s",
        "colab_type": "text"
      },
      "source": [
        "We first need to set our gradient to zero: optimizer.zero_grad() . This is because every time a variable is back propagated through, the gradient will be accumulated instead of being replaced.\n",
        "\n",
        "\n",
        "---\n",
        "\n",
        "Then optimizer.step() performs a parameter update based on the current gradient.\n"
      ]
    },
    {
      "cell_type": "code",
      "metadata": {
        "id": "1pra6l4M_b7T",
        "colab_type": "code",
        "outputId": "a28bf3ba-c660-434b-cd8f-c1c2f2e9a9f3",
        "colab": {
          "base_uri": "https://localhost:8080/",
          "height": 34
        }
      },
      "source": [
        "new_x = Variable(torch.Tensor([[45.0]]))\n",
        "y_pred = model(new_x)\n",
        "print(\"predicted Y value: \", y_pred.data[0][0])"
      ],
      "execution_count": 0,
      "outputs": [
        {
          "output_type": "stream",
          "text": [
            "predicted Y value:  tensor(-1.0459e+12)\n"
          ],
          "name": "stdout"
        }
      ]
    },
    {
      "cell_type": "code",
      "metadata": {
        "id": "0CIXzBOUTLSB",
        "colab_type": "code",
        "outputId": "2bb6234a-07ff-4a15-bd9d-bb279936c6b3",
        "colab": {
          "base_uri": "https://localhost:8080/",
          "height": 84
        }
      },
      "source": [
        "x_data.data.numpy()"
      ],
      "execution_count": 0,
      "outputs": [
        {
          "output_type": "execute_result",
          "data": {
            "text/plain": [
              "array([[10.],\n",
              "       [ 9.],\n",
              "       [ 3.],\n",
              "       [ 2.]], dtype=float32)"
            ]
          },
          "metadata": {
            "tags": []
          },
          "execution_count": 27
        }
      ]
    },
    {
      "cell_type": "code",
      "metadata": {
        "id": "Z3OWZ72YTQZY",
        "colab_type": "code",
        "colab": {
          "base_uri": "https://localhost:8080/",
          "height": 84
        },
        "outputId": "7a7c6138-b046-4b07-b106-35c780b6b755"
      },
      "source": [
        "y_data.data.numpy()"
      ],
      "execution_count": 28,
      "outputs": [
        {
          "output_type": "execute_result",
          "data": {
            "text/plain": [
              "array([[90.],\n",
              "       [80.],\n",
              "       [50.],\n",
              "       [30.]], dtype=float32)"
            ]
          },
          "metadata": {
            "tags": []
          },
          "execution_count": 28
        }
      ]
    },
    {
      "cell_type": "code",
      "metadata": {
        "id": "7n2vdWE0BXAW",
        "colab_type": "code",
        "outputId": "93570bbf-0b7e-442c-890e-4203b2eda5c0",
        "colab": {
          "base_uri": "https://localhost:8080/",
          "height": 301
        }
      },
      "source": [
        "plt.plot(y_data.data.numpy(),x_data.data.numpy())\n",
        "plt.xlabel('x_data')\n",
        "plt.ylabel('y_data')"
      ],
      "execution_count": 31,
      "outputs": [
        {
          "output_type": "execute_result",
          "data": {
            "text/plain": [
              "Text(0, 0.5, 'y_data')"
            ]
          },
          "metadata": {
            "tags": []
          },
          "execution_count": 31
        },
        {
          "output_type": "display_data",
          "data": {
            "image/png": "[encoded data removed]",
            "text/plain": [
              "<Figure size 432x288 with 1 Axes>"
            ]
          },
          "metadata": {
            "tags": []
          }
        }
      ]
    },
    {
      "cell_type": "code",
      "metadata": {
        "id": "xi2cPaQ8SQaw",
        "colab_type": "code",
        "colab": {}
      },
      "source": [
        "t=torch.as_tensor([[2,3],[4,6],[67,98],[1,90]])\n",
        "a=t.data"
      ],
      "execution_count": 0,
      "outputs": []
    },
    {
      "cell_type": "code",
      "metadata": {
        "id": "CTDpf_yxXFaE",
        "colab_type": "code",
        "colab": {}
      },
      "source": [
        ""
      ],
      "execution_count": 0,
      "outputs": []
    }
  ]
}