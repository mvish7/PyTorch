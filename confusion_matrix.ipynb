{
  "nbformat": 4,
  "nbformat_minor": 0,
  "metadata": {
    "colab": {
      "name": "Untitled4.ipynb",
      "version": "0.3.2",
      "provenance": [],
      "include_colab_link": true
    },
    "kernelspec": {
      "name": "python3",
      "display_name": "Python 3"
    }
  },
  "cells": [
    {
      "cell_type": "markdown",
      "metadata": {
        "id": "view-in-github",
        "colab_type": "text"
      },
      "source": [
        "<a href=\"https://colab.research.google.com/github/mvish7/PyTorch/blob/master/confusion_matrix.ipynb\" target=\"_parent\"><img src=\"https://colab.research.google.com/assets/colab-badge.svg\" alt=\"Open In Colab\"/></a>"
      ]
    },
    {
      "cell_type": "markdown",
      "metadata": {
        "id": "nOZlrn-X2Kp9",
        "colab_type": "text"
      },
      "source": [
        "necessary imports"
      ]
    },
    {
      "cell_type": "code",
      "metadata": {
        "id": "sckdY1mO1g8O",
        "colab_type": "code",
        "colab": {}
      },
      "source": [
        "import torch\n",
        "import torchvision\n",
        "import torchvision.transforms as transforms\n",
        "import torch.nn as nn\n",
        "import torch.nn.functional as F\n",
        "import torch.optim as optim"
      ],
      "execution_count": 0,
      "outputs": []
    },
    {
      "cell_type": "markdown",
      "metadata": {
        "id": "ZZlNHriX2NFF",
        "colab_type": "text"
      },
      "source": [
        "creating n/w architecture"
      ]
    },
    {
      "cell_type": "code",
      "metadata": {
        "id": "wsCXKpIL1jLt",
        "colab_type": "code",
        "colab": {}
      },
      "source": [
        "class Network(nn.Module):\n",
        "  def __init__(self):\n",
        "    super(Network,self).__init__()\n",
        "    self.conv1 = nn.Conv2d(in_channels=1, out_channels=6, kernel_size=5)\n",
        "    self.conv2 = nn.Conv2d(in_channels=6, out_channels=12, kernel_size=5)\n",
        "    \n",
        "    self.fc1 = nn.Linear(in_features=12*4*4, out_features=120)\n",
        "    self.fc2 = nn.Linear(in_features=120, out_features=60)\n",
        "    self.out = nn.Linear(in_features=60, out_features=10)\n",
        "    \n",
        "  def forward(self,t):\n",
        "    #implementing fwd pass\n",
        "    \n",
        "    # input layer\n",
        "    t=t #returning the tensor as it as, no need of processing\n",
        "    \n",
        "    # hidden layer 1 \n",
        "    t=self.conv1(t)\n",
        "    t=F.relu(t)\n",
        "    t=F.max_pool2d(t, kernel_size=2, stride=2)\n",
        "    \n",
        "    \n",
        "    #hidden layer 2\n",
        "    t=self.conv2(t)\n",
        "    t=F.relu(t)\n",
        "    t=F.max_pool2d(t, kernel_size=2, stride=2)\n",
        "    \n",
        "    #hidden layer 3\n",
        "    t=t.reshape(-1,12*4*4)  #doing the flattening operation before passing the tensor from conv layer to the linear layer\n",
        "    t=self.fc1(t)\n",
        "    t=F.relu(t)\n",
        "    \n",
        "    #hidden layer 4\n",
        "    t=self.fc2(t)\n",
        "    t=F.relu(t)\n",
        "    \n",
        "    #output layer\n",
        "    t=self.out(t)\n",
        "    #t=F.softmax(t, dim=1)  no need to use softmax here, coz we are using cross entropy as our loss function and it has built in softmax.\n",
        "    \n",
        "    \n",
        "    return t\n",
        "  \n",
        "      "
      ],
      "execution_count": 0,
      "outputs": []
    },
    {
      "cell_type": "code",
      "metadata": {
        "id": "LerMaXUW2xlR",
        "colab_type": "code",
        "colab": {}
      },
      "source": [
        "model=Network()"
      ],
      "execution_count": 0,
      "outputs": []
    },
    {
      "cell_type": "markdown",
      "metadata": {
        "id": "fZJ-iBgQ2QqR",
        "colab_type": "text"
      },
      "source": [
        "creating training data object"
      ]
    },
    {
      "cell_type": "code",
      "metadata": {
        "id": "tp7hKdaq1n11",
        "colab_type": "code",
        "colab": {
          "base_uri": "https://localhost:8080/",
          "height": 272
        },
        "outputId": "73a42474-b4d6-4b27-834d-727ebda2af89"
      },
      "source": [
        "trainset=torchvision.datasets.FashionMNIST(root='./data/FashionMNIST',\n",
        "                                           train=True, \n",
        "                                           download=True,\n",
        "               transform=transforms.Compose([transforms.ToTensor()]))"
      ],
      "execution_count": 3,
      "outputs": [
        {
          "output_type": "stream",
          "text": [
            "\r0it [00:00, ?it/s]"
          ],
          "name": "stderr"
        },
        {
          "output_type": "stream",
          "text": [
            "Downloading http://fashion-mnist.s3-website.eu-central-1.amazonaws.com/train-images-idx3-ubyte.gz to ./data/FashionMNIST/FashionMNIST/raw/train-images-idx3-ubyte.gz\n"
          ],
          "name": "stdout"
        },
        {
          "output_type": "stream",
          "text": [
            "26427392it [00:02, 10630138.61it/s]                             \n"
          ],
          "name": "stderr"
        },
        {
          "output_type": "stream",
          "text": [
            "Extracting ./data/FashionMNIST/FashionMNIST/raw/train-images-idx3-ubyte.gz\n"
          ],
          "name": "stdout"
        },
        {
          "output_type": "stream",
          "text": [
            "\r0it [00:00, ?it/s]"
          ],
          "name": "stderr"
        },
        {
          "output_type": "stream",
          "text": [
            "Downloading http://fashion-mnist.s3-website.eu-central-1.amazonaws.com/train-labels-idx1-ubyte.gz to ./data/FashionMNIST/FashionMNIST/raw/train-labels-idx1-ubyte.gz\n"
          ],
          "name": "stdout"
        },
        {
          "output_type": "stream",
          "text": [
            "32768it [00:00, 73787.42it/s]                            \n",
            "0it [00:00, ?it/s]"
          ],
          "name": "stderr"
        },
        {
          "output_type": "stream",
          "text": [
            "Extracting ./data/FashionMNIST/FashionMNIST/raw/train-labels-idx1-ubyte.gz\n",
            "Downloading http://fashion-mnist.s3-website.eu-central-1.amazonaws.com/t10k-images-idx3-ubyte.gz to ./data/FashionMNIST/FashionMNIST/raw/t10k-images-idx3-ubyte.gz\n"
          ],
          "name": "stdout"
        },
        {
          "output_type": "stream",
          "text": [
            "4423680it [00:01, 2974409.87it/s]                            \n",
            "0it [00:00, ?it/s]"
          ],
          "name": "stderr"
        },
        {
          "output_type": "stream",
          "text": [
            "Extracting ./data/FashionMNIST/FashionMNIST/raw/t10k-images-idx3-ubyte.gz\n",
            "Downloading http://fashion-mnist.s3-website.eu-central-1.amazonaws.com/t10k-labels-idx1-ubyte.gz to ./data/FashionMNIST/FashionMNIST/raw/t10k-labels-idx1-ubyte.gz\n"
          ],
          "name": "stdout"
        },
        {
          "output_type": "stream",
          "text": [
            "8192it [00:00, 24536.31it/s]            "
          ],
          "name": "stderr"
        },
        {
          "output_type": "stream",
          "text": [
            "Extracting ./data/FashionMNIST/FashionMNIST/raw/t10k-labels-idx1-ubyte.gz\n",
            "Processing...\n",
            "Done!\n"
          ],
          "name": "stdout"
        },
        {
          "output_type": "stream",
          "text": [
            "\n"
          ],
          "name": "stderr"
        }
      ]
    },
    {
      "cell_type": "markdown",
      "metadata": {
        "id": "XYzZmCpS2XNj",
        "colab_type": "text"
      },
      "source": [
        "this is the data loader instance"
      ]
    },
    {
      "cell_type": "code",
      "metadata": {
        "id": "5AXnkaLR1uwg",
        "colab_type": "code",
        "colab": {}
      },
      "source": [
        "data_loader=torch.utils.data.DataLoader(trainset,batch_size=100, shuffle='true')\n",
        "batch=next(iter(data_loader))\n",
        "images, labels=batch"
      ],
      "execution_count": 0,
      "outputs": []
    },
    {
      "cell_type": "code",
      "metadata": {
        "id": "fSmhhmi_10L4",
        "colab_type": "code",
        "colab": {
          "base_uri": "https://localhost:8080/",
          "height": 34
        },
        "outputId": "517e3bce-f794-4b11-fb37-84c90324acf1"
      },
      "source": [
        "len(trainset)"
      ],
      "execution_count": 5,
      "outputs": [
        {
          "output_type": "execute_result",
          "data": {
            "text/plain": [
              "60000"
            ]
          },
          "metadata": {
            "tags": []
          },
          "execution_count": 5
        }
      ]
    },
    {
      "cell_type": "code",
      "metadata": {
        "id": "z-VKwpzw2esJ",
        "colab_type": "code",
        "colab": {
          "base_uri": "https://localhost:8080/",
          "height": 34
        },
        "outputId": "6ac84d04-2127-400f-f1a2-51a9760b17b1"
      },
      "source": [
        "len(trainset.targets)"
      ],
      "execution_count": 6,
      "outputs": [
        {
          "output_type": "execute_result",
          "data": {
            "text/plain": [
              "60000"
            ]
          },
          "metadata": {
            "tags": []
          },
          "execution_count": 6
        }
      ]
    },
    {
      "cell_type": "markdown",
      "metadata": {
        "id": "p66Q-YYY3Vrt",
        "colab_type": "text"
      },
      "source": [
        "setting the loss fun and optimizers"
      ]
    },
    {
      "cell_type": "code",
      "metadata": {
        "id": "xyqCQwBS3PeF",
        "colab_type": "code",
        "colab": {}
      },
      "source": [
        "loss_fun= nn.CrossEntropyLoss()\n",
        "optimizer=optim.Adam(model.parameters(), lr=0.01)"
      ],
      "execution_count": 0,
      "outputs": []
    },
    {
      "cell_type": "markdown",
      "metadata": {
        "id": "k8Sfv6zv3wx7",
        "colab_type": "text"
      },
      "source": [
        "fun to find correct predixtions"
      ]
    },
    {
      "cell_type": "code",
      "metadata": {
        "id": "VKGVhW0k3zpt",
        "colab_type": "code",
        "colab": {}
      },
      "source": [
        "def get_num_correct(preds, labels):\n",
        "  return preds.argmax(dim=1).eq(labels).sum().item()"
      ],
      "execution_count": 0,
      "outputs": []
    },
    {
      "cell_type": "markdown",
      "metadata": {
        "id": "YXPUAlmG3fHd",
        "colab_type": "text"
      },
      "source": [
        "let's train the n/w"
      ]
    },
    {
      "cell_type": "code",
      "metadata": {
        "id": "7mAesM2x3hsw",
        "colab_type": "code",
        "colab": {
          "base_uri": "https://localhost:8080/",
          "height": 101
        },
        "outputId": "71577ccf-775e-49fc-be94-e398670a40fb"
      },
      "source": [
        "for epoch in range(5):\n",
        "  total_loss=0\n",
        "  total_correct=0\n",
        "\n",
        "  for batch in data_loader:\n",
        "    images, labels= batch\n",
        "    preds = model(images)\n",
        "    loss = loss_fun(preds, labels)\n",
        "  \n",
        "    optimizer.zero_grad()\n",
        "    loss.backward() #calculating the gradients\n",
        "    optimizer.step() #update weights\n",
        "  \n",
        "    total_loss += loss.item()\n",
        "    total_correct += get_num_correct(preds, labels)\n",
        "  \n",
        "  print(\"epoch:\", epoch, \"total correct:\", total_correct, \"loss:\", total_loss)"
      ],
      "execution_count": 13,
      "outputs": [
        {
          "output_type": "stream",
          "text": [
            "epoch: 0 total correct: 46923 loss: 342.4742175042629\n",
            "epoch: 1 total correct: 51446 loss: 232.04567217826843\n",
            "epoch: 2 total correct: 51964 loss: 216.48347127437592\n",
            "epoch: 3 total correct: 52478 loss: 205.33190037310123\n",
            "epoch: 4 total correct: 52492 loss: 204.73954032361507\n"
          ],
          "name": "stdout"
        }
      ]
    },
    {
      "cell_type": "markdown",
      "metadata": {
        "id": "En093Naf4b8v",
        "colab_type": "text"
      },
      "source": [
        "let's find accuracy"
      ]
    },
    {
      "cell_type": "code",
      "metadata": {
        "id": "C3ziBaC24eQj",
        "colab_type": "code",
        "colab": {
          "base_uri": "https://localhost:8080/",
          "height": 34
        },
        "outputId": "1e3dc61f-0d4d-484c-eb78-3462b7ad941c"
      },
      "source": [
        "total_correct/len(trainset)"
      ],
      "execution_count": 14,
      "outputs": [
        {
          "output_type": "execute_result",
          "data": {
            "text/plain": [
              "0.8748666666666667"
            ]
          },
          "metadata": {
            "tags": []
          },
          "execution_count": 14
        }
      ]
    },
    {
      "cell_type": "markdown",
      "metadata": {
        "id": "RZwJDmQ82mOm",
        "colab_type": "text"
      },
      "source": [
        "getting the predictions from model over whole training set"
      ]
    },
    {
      "cell_type": "code",
      "metadata": {
        "id": "dkHL9RrR2d56",
        "colab_type": "code",
        "colab": {}
      },
      "source": [
        "def get_all_preds(model, data_loader):\n",
        "  all_preds=torch.tensor([])\n",
        "  for batch in data_loader:\n",
        "    images, labels= batch\n",
        "    \n",
        "    preds = model(images)\n",
        "    all_preds=torch.cat((all_preds, preds), dim=0)\n",
        "    \n",
        "    return all_preds\n",
        "  "
      ],
      "execution_count": 0,
      "outputs": []
    },
    {
      "cell_type": "code",
      "metadata": {
        "id": "X8eqmySk4oSt",
        "colab_type": "code",
        "colab": {}
      },
      "source": [
        "with torch.no_grad():\n",
        "  prediction_loader=torch.utils.data.DataLoader(trainset, batch_size=60000)\n",
        "  train_preds=get_all_preds(model, prediction_loader)"
      ],
      "execution_count": 0,
      "outputs": []
    },
    {
      "cell_type": "markdown",
      "metadata": {
        "id": "52YRv2ub9nrk",
        "colab_type": "text"
      },
      "source": [
        "building confusion matrix now"
      ]
    },
    {
      "cell_type": "markdown",
      "metadata": {
        "id": "MqvOWcg2_uvQ",
        "colab_type": "text"
      },
      "source": [
        "these are the labels of whole trainset"
      ]
    },
    {
      "cell_type": "code",
      "metadata": {
        "id": "U_kWBVHp5HgF",
        "colab_type": "code",
        "colab": {
          "base_uri": "https://localhost:8080/",
          "height": 34
        },
        "outputId": "be6e4235-05b0-4755-b1bb-465c05d96e06"
      },
      "source": [
        "trainset.targets"
      ],
      "execution_count": 27,
      "outputs": [
        {
          "output_type": "execute_result",
          "data": {
            "text/plain": [
              "tensor([9, 0, 0,  ..., 3, 0, 5])"
            ]
          },
          "metadata": {
            "tags": []
          },
          "execution_count": 27
        }
      ]
    },
    {
      "cell_type": "markdown",
      "metadata": {
        "id": "mHRAMcla_5s9",
        "colab_type": "text"
      },
      "source": [
        "we only want the max num from the 10 predictions of each image, coz thats the actual right pred n/w has"
      ]
    },
    {
      "cell_type": "code",
      "metadata": {
        "id": "SVve-l3c_q_H",
        "colab_type": "code",
        "colab": {
          "base_uri": "https://localhost:8080/",
          "height": 34
        },
        "outputId": "b91bf625-fb57-49a1-d5d3-c46947da809c"
      },
      "source": [
        "train_preds.argmax(dim=1).shape"
      ],
      "execution_count": 28,
      "outputs": [
        {
          "output_type": "execute_result",
          "data": {
            "text/plain": [
              "torch.Size([60000])"
            ]
          },
          "metadata": {
            "tags": []
          },
          "execution_count": 28
        }
      ]
    },
    {
      "cell_type": "markdown",
      "metadata": {
        "id": "tyco5TudAHbb",
        "colab_type": "text"
      },
      "source": [
        "now lets make a pair of (label, pred)"
      ]
    },
    {
      "cell_type": "code",
      "metadata": {
        "id": "JPgbgPjyADmp",
        "colab_type": "code",
        "colab": {}
      },
      "source": [
        "stacked = torch.stack((trainset.targets,train_preds.argmax(dim=1) ), dim=1)"
      ],
      "execution_count": 0,
      "outputs": []
    },
    {
      "cell_type": "code",
      "metadata": {
        "id": "AJLJpyYXBIk6",
        "colab_type": "code",
        "colab": {
          "base_uri": "https://localhost:8080/",
          "height": 34
        },
        "outputId": "006b3cfb-ac17-4744-9fa9-775c6f2172cd"
      },
      "source": [
        "stacked.shape"
      ],
      "execution_count": 30,
      "outputs": [
        {
          "output_type": "execute_result",
          "data": {
            "text/plain": [
              "torch.Size([60000, 2])"
            ]
          },
          "metadata": {
            "tags": []
          },
          "execution_count": 30
        }
      ]
    },
    {
      "cell_type": "markdown",
      "metadata": {
        "id": "-2u-DAYbBkn8",
        "colab_type": "text"
      },
      "source": [
        "this is how it looks"
      ]
    },
    {
      "cell_type": "code",
      "metadata": {
        "id": "6P-fc2SnBe6c",
        "colab_type": "code",
        "colab": {
          "base_uri": "https://localhost:8080/",
          "height": 134
        },
        "outputId": "922f8f0d-4b13-4aa9-96fb-dc7844545480"
      },
      "source": [
        "stacked"
      ],
      "execution_count": 31,
      "outputs": [
        {
          "output_type": "execute_result",
          "data": {
            "text/plain": [
              "tensor([[9, 9],\n",
              "        [0, 0],\n",
              "        [0, 0],\n",
              "        ...,\n",
              "        [3, 3],\n",
              "        [0, 0],\n",
              "        [5, 5]])"
            ]
          },
          "metadata": {
            "tags": []
          },
          "execution_count": 31
        }
      ]
    },
    {
      "cell_type": "markdown",
      "metadata": {
        "id": "rnczRIyFBmN3",
        "colab_type": "text"
      },
      "source": [
        "creating the list out of this stacked"
      ]
    },
    {
      "cell_type": "code",
      "metadata": {
        "id": "Va4P1rjPBj64",
        "colab_type": "code",
        "colab": {
          "base_uri": "https://localhost:8080/",
          "height": 34
        },
        "outputId": "b81b05bf-bdb9-4668-cba3-9a0ba5b7f88c"
      },
      "source": [
        "stacked[0].tolist()"
      ],
      "execution_count": 33,
      "outputs": [
        {
          "output_type": "execute_result",
          "data": {
            "text/plain": [
              "[9, 9]"
            ]
          },
          "metadata": {
            "tags": []
          },
          "execution_count": 33
        }
      ]
    },
    {
      "cell_type": "markdown",
      "metadata": {
        "id": "EJKsAId3B2DT",
        "colab_type": "text"
      },
      "source": [
        "exact configuration mat"
      ]
    },
    {
      "cell_type": "code",
      "metadata": {
        "id": "E-SjoXUkBqpY",
        "colab_type": "code",
        "colab": {
          "base_uri": "https://localhost:8080/",
          "height": 185
        },
        "outputId": "6ff85295-808f-4bac-90b4-5bfb36dd7de0"
      },
      "source": [
        "cmt=torch.zeros(10,10, dtype=torch.int32)\n",
        "cmt"
      ],
      "execution_count": 34,
      "outputs": [
        {
          "output_type": "execute_result",
          "data": {
            "text/plain": [
              "tensor([[0, 0, 0, 0, 0, 0, 0, 0, 0, 0],\n",
              "        [0, 0, 0, 0, 0, 0, 0, 0, 0, 0],\n",
              "        [0, 0, 0, 0, 0, 0, 0, 0, 0, 0],\n",
              "        [0, 0, 0, 0, 0, 0, 0, 0, 0, 0],\n",
              "        [0, 0, 0, 0, 0, 0, 0, 0, 0, 0],\n",
              "        [0, 0, 0, 0, 0, 0, 0, 0, 0, 0],\n",
              "        [0, 0, 0, 0, 0, 0, 0, 0, 0, 0],\n",
              "        [0, 0, 0, 0, 0, 0, 0, 0, 0, 0],\n",
              "        [0, 0, 0, 0, 0, 0, 0, 0, 0, 0],\n",
              "        [0, 0, 0, 0, 0, 0, 0, 0, 0, 0]], dtype=torch.int32)"
            ]
          },
          "metadata": {
            "tags": []
          },
          "execution_count": 34
        }
      ]
    },
    {
      "cell_type": "markdown",
      "metadata": {
        "id": "wNTqEiCHCDJA",
        "colab_type": "text"
      },
      "source": [
        "let's populate the values"
      ]
    },
    {
      "cell_type": "code",
      "metadata": {
        "id": "FGx77jCACCSD",
        "colab_type": "code",
        "colab": {}
      },
      "source": [
        "for p in stacked:\n",
        "  j,k= p.tolist()\n",
        "  cmt[j,k]=cmt[j,k]+1"
      ],
      "execution_count": 0,
      "outputs": []
    },
    {
      "cell_type": "code",
      "metadata": {
        "id": "F8Kb4tMJCwaX",
        "colab_type": "code",
        "colab": {
          "base_uri": "https://localhost:8080/",
          "height": 202
        },
        "outputId": "05945383-99a5-4050-f184-d7ef58306785"
      },
      "source": [
        "cmt"
      ],
      "execution_count": 36,
      "outputs": [
        {
          "output_type": "execute_result",
          "data": {
            "text/plain": [
              "tensor([[5374,    4,   43,  144,   25,    6,  379,    0,   25,    0],\n",
              "        [  15, 5809,    3,  135,   17,    5,   14,    0,    2,    0],\n",
              "        [  81,    1, 4390,   51,  893,    3,  574,    1,    6,    0],\n",
              "        [ 162,    5,   13, 5207,  538,    1,   61,    0,   12,    1],\n",
              "        [  11,    2,  276,   52, 5347,    0,  308,    0,    4,    0],\n",
              "        [   0,    0,    0,    0,    0, 5935,    1,   32,   10,   22],\n",
              "        [1156,    5,  383,  167,  601,    3, 3661,    0,   24,    0],\n",
              "        [   0,    0,    0,    0,    0,  220,    0, 5637,    2,  141],\n",
              "        [  25,    2,   26,    9,   38,   32,  105,    2, 5761,    0],\n",
              "        [   0,    0,    0,    2,    0,   98,    0,  153,    3, 5744]],\n",
              "       dtype=torch.int32)"
            ]
          },
          "metadata": {
            "tags": []
          },
          "execution_count": 36
        }
      ]
    },
    {
      "cell_type": "markdown",
      "metadata": {
        "id": "AA26JMApC5KA",
        "colab_type": "text"
      },
      "source": [
        "plotting the confusion matrix"
      ]
    },
    {
      "cell_type": "code",
      "metadata": {
        "id": "nu-EjUq7Cxkk",
        "colab_type": "code",
        "colab": {}
      },
      "source": [
        ""
      ],
      "execution_count": 0,
      "outputs": []
    }
  ]
}