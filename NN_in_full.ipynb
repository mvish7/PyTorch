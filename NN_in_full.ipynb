{
  "nbformat": 4,
  "nbformat_minor": 0,
  "metadata": {
    "colab": {
      "name": "Untitled3.ipynb",
      "version": "0.3.2",
      "provenance": [],
      "include_colab_link": true
    },
    "kernelspec": {
      "name": "python3",
      "display_name": "Python 3"
    }
  },
  "cells": [
    {
      "cell_type": "markdown",
      "metadata": {
        "id": "view-in-github",
        "colab_type": "text"
      },
      "source": [
        "<a href=\"https://colab.research.google.com/github/mvish7/PyTorch/blob/master/NN_in_full.ipynb\" target=\"_parent\"><img src=\"https://colab.research.google.com/assets/colab-badge.svg\" alt=\"Open In Colab\"/></a>"
      ]
    },
    {
      "cell_type": "markdown",
      "metadata": {
        "id": "Cs7Pmfq47Yhy",
        "colab_type": "text"
      },
      "source": [
        "necessary imports"
      ]
    },
    {
      "cell_type": "code",
      "metadata": {
        "id": "5vreRHIk6lcq",
        "colab_type": "code",
        "colab": {}
      },
      "source": [
        "import torch\n",
        "import torchvision\n",
        "import torchvision.transforms as transforms\n",
        "import torch.nn as nn\n",
        "import torch.nn.functional as F\n",
        "import torch.optim as optim"
      ],
      "execution_count": 0,
      "outputs": []
    },
    {
      "cell_type": "markdown",
      "metadata": {
        "id": "tvTxGJMZ7bbr",
        "colab_type": "text"
      },
      "source": [
        "fun to calculate number of correct preds"
      ]
    },
    {
      "cell_type": "code",
      "metadata": {
        "id": "jPc7Lkl76wqR",
        "colab_type": "code",
        "colab": {}
      },
      "source": [
        "def get_num_correct(preds, labels):\n",
        "  return preds.argmax(dim=1).eq(labels).sum().item()"
      ],
      "execution_count": 0,
      "outputs": []
    },
    {
      "cell_type": "markdown",
      "metadata": {
        "id": "AYH_bFmc7mgv",
        "colab_type": "text"
      },
      "source": [
        "creating n/w class and building the fwd method"
      ]
    },
    {
      "cell_type": "code",
      "metadata": {
        "id": "GNOFARV76-_W",
        "colab_type": "code",
        "colab": {}
      },
      "source": [
        "class Network(nn.Module):\n",
        "  def __init__(self):\n",
        "    super(Network,self).__init__()\n",
        "    self.conv1 = nn.Conv2d(in_channels=1, out_channels=6, kernel_size=5)\n",
        "    self.conv2 = nn.Conv2d(in_channels=6, out_channels=12, kernel_size=5)\n",
        "    \n",
        "    self.fc1 = nn.Linear(in_features=12*4*4, out_features=120)\n",
        "    self.fc2 = nn.Linear(in_features=120, out_features=60)\n",
        "    self.out = nn.Linear(in_features=60, out_features=10)\n",
        "    \n",
        "  def forward(self,t):\n",
        "    #implementing fwd pass\n",
        "    \n",
        "    # input layer\n",
        "    t=t #returning the tensor as it as, no need of processing\n",
        "    \n",
        "    # hidden layer 1 \n",
        "    t=self.conv1(t)\n",
        "    t=F.relu(t)\n",
        "    t=F.max_pool2d(t, kernel_size=2, stride=2)\n",
        "    \n",
        "    \n",
        "    #hidden layer 2\n",
        "    t=self.conv2(t)\n",
        "    t=F.relu(t)\n",
        "    t=F.max_pool2d(t, kernel_size=2, stride=2)\n",
        "    \n",
        "    #hidden layer 3\n",
        "    t=t.reshape(-1,12*4*4)  #doing the flattening operation before passing the tensor from conv layer to the linear layer\n",
        "    t=self.fc1(t)\n",
        "    t=F.relu(t)\n",
        "    \n",
        "    #hidden layer 4\n",
        "    t=self.fc2(t)\n",
        "    t=F.relu(t)\n",
        "    \n",
        "    #output layer\n",
        "    t=self.out(t)\n",
        "    #t=F.softmax(t, dim=1)  no need to use softmax here, coz we are using cross entropy as our loss function and it has built in softmax.\n",
        "    \n",
        "    \n",
        "    return t\n",
        "  \n",
        "      "
      ],
      "execution_count": 0,
      "outputs": []
    },
    {
      "cell_type": "markdown",
      "metadata": {
        "id": "nbG8_0kW7q3c",
        "colab_type": "text"
      },
      "source": [
        "data downloaded"
      ]
    },
    {
      "cell_type": "code",
      "metadata": {
        "id": "GQB3aWlR7FOx",
        "colab_type": "code",
        "colab": {
          "base_uri": "https://localhost:8080/",
          "height": 255
        },
        "outputId": "a4964880-94c9-45ce-8cfd-1b75d1e50406"
      },
      "source": [
        "trainset=torchvision.datasets.FashionMNIST(root='./data/FashionMNIST',\n",
        "                                           train=True, \n",
        "                                           download=True,\n",
        "               transform=transforms.Compose([transforms.ToTensor()]))"
      ],
      "execution_count": 5,
      "outputs": [
        {
          "output_type": "stream",
          "text": [
            "\r0it [00:00, ?it/s]"
          ],
          "name": "stderr"
        },
        {
          "output_type": "stream",
          "text": [
            "Downloading http://fashion-mnist.s3-website.eu-central-1.amazonaws.com/train-images-idx3-ubyte.gz to ./data/FashionMNIST/FashionMNIST/raw/train-images-idx3-ubyte.gz\n"
          ],
          "name": "stdout"
        },
        {
          "output_type": "stream",
          "text": [
            "26427392it [00:01, 13676592.61it/s]                              \n"
          ],
          "name": "stderr"
        },
        {
          "output_type": "stream",
          "text": [
            "Extracting ./data/FashionMNIST/FashionMNIST/raw/train-images-idx3-ubyte.gz\n"
          ],
          "name": "stdout"
        },
        {
          "output_type": "stream",
          "text": [
            "\r0it [00:00, ?it/s]"
          ],
          "name": "stderr"
        },
        {
          "output_type": "stream",
          "text": [
            "Downloading http://fashion-mnist.s3-website.eu-central-1.amazonaws.com/train-labels-idx1-ubyte.gz to ./data/FashionMNIST/FashionMNIST/raw/train-labels-idx1-ubyte.gz\n"
          ],
          "name": "stdout"
        },
        {
          "output_type": "stream",
          "text": [
            "32768it [00:00, 103227.73it/s]           \n",
            "0it [00:00, ?it/s]"
          ],
          "name": "stderr"
        },
        {
          "output_type": "stream",
          "text": [
            "Extracting ./data/FashionMNIST/FashionMNIST/raw/train-labels-idx1-ubyte.gz\n",
            "Downloading http://fashion-mnist.s3-website.eu-central-1.amazonaws.com/t10k-images-idx3-ubyte.gz to ./data/FashionMNIST/FashionMNIST/raw/t10k-images-idx3-ubyte.gz\n"
          ],
          "name": "stdout"
        },
        {
          "output_type": "stream",
          "text": [
            "4423680it [00:01, 4382432.33it/s]                            \n",
            "0it [00:00, ?it/s]"
          ],
          "name": "stderr"
        },
        {
          "output_type": "stream",
          "text": [
            "Extracting ./data/FashionMNIST/FashionMNIST/raw/t10k-images-idx3-ubyte.gz\n",
            "Downloading http://fashion-mnist.s3-website.eu-central-1.amazonaws.com/t10k-labels-idx1-ubyte.gz to ./data/FashionMNIST/FashionMNIST/raw/t10k-labels-idx1-ubyte.gz\n"
          ],
          "name": "stdout"
        },
        {
          "output_type": "stream",
          "text": [
            "8192it [00:00, 31279.69it/s]            "
          ],
          "name": "stderr"
        },
        {
          "output_type": "stream",
          "text": [
            "Extracting ./data/FashionMNIST/FashionMNIST/raw/t10k-labels-idx1-ubyte.gz\n",
            "Processing...\n",
            "Done!\n"
          ],
          "name": "stdout"
        },
        {
          "output_type": "stream",
          "text": [
            "\n"
          ],
          "name": "stderr"
        }
      ]
    },
    {
      "cell_type": "markdown",
      "metadata": {
        "id": "CciURXxrxZlL",
        "colab_type": "text"
      },
      "source": [
        "downloading the test data now"
      ]
    },
    {
      "cell_type": "code",
      "metadata": {
        "id": "_A_8i42-xbyn",
        "colab_type": "code",
        "colab": {}
      },
      "source": [
        "testset = torchvision.datasets.FashionMNIST(root='./data/FashionMNIST', train=False,\n",
        "                                       download=True, \n",
        "                                           transform=transforms.Compose([transforms.ToTensor()]))"
      ],
      "execution_count": 0,
      "outputs": []
    },
    {
      "cell_type": "code",
      "metadata": {
        "id": "uz_ajfgw8pGF",
        "colab_type": "code",
        "colab": {}
      },
      "source": [
        "network=Network()"
      ],
      "execution_count": 0,
      "outputs": []
    },
    {
      "cell_type": "markdown",
      "metadata": {
        "id": "wVCnyCT57tC9",
        "colab_type": "text"
      },
      "source": [
        "creating batch of 100 images, using dataloader class"
      ]
    },
    {
      "cell_type": "code",
      "metadata": {
        "id": "TjvGP7y47Iwm",
        "colab_type": "code",
        "colab": {}
      },
      "source": [
        "data_loader=torch.utils.data.DataLoader(trainset,batch_size=100, shuffle=true)\n",
        "batch=next(iter(data_loader))\n",
        "images, labels=batch"
      ],
      "execution_count": 0,
      "outputs": []
    },
    {
      "cell_type": "markdown",
      "metadata": {
        "id": "03JAI4cIxz2Y",
        "colab_type": "text"
      },
      "source": [
        "creating dataloader instance for test data"
      ]
    },
    {
      "cell_type": "code",
      "metadata": {
        "id": "UZ32mMbMyBxj",
        "colab_type": "code",
        "colab": {}
      },
      "source": [
        "testloader = torch.utils.data.DataLoader(testset, batch_size=50,\n",
        "                                         shuffle=False)"
      ],
      "execution_count": 0,
      "outputs": []
    },
    {
      "cell_type": "markdown",
      "metadata": {
        "id": "MhMr3GUG8Mhb",
        "colab_type": "text"
      },
      "source": [
        "calculating the loss"
      ]
    },
    {
      "cell_type": "code",
      "metadata": {
        "id": "wj-Klnks8BGp",
        "colab_type": "code",
        "colab": {}
      },
      "source": [
        "preds= network(images)\n",
        "loss_fun= nn.CrossEntropyLoss()\n",
        "#loss.item() #item method gives out the numerical vlaue of the loss"
      ],
      "execution_count": 0,
      "outputs": []
    },
    {
      "cell_type": "markdown",
      "metadata": {
        "id": "o1mxqkmD9RMQ",
        "colab_type": "text"
      },
      "source": [
        "calculating the gradients with backward method"
      ]
    },
    {
      "cell_type": "code",
      "metadata": {
        "id": "AXzPnrn08mvi",
        "colab_type": "code",
        "colab": {}
      },
      "source": [
        "loss.backward()"
      ],
      "execution_count": 0,
      "outputs": []
    },
    {
      "cell_type": "markdown",
      "metadata": {
        "id": "b5cM3UDQ9anC",
        "colab_type": "text"
      },
      "source": [
        "now using this gradients to update the network weights using optimizer"
      ]
    },
    {
      "cell_type": "code",
      "metadata": {
        "id": "i3a0iNxA9Zzy",
        "colab_type": "code",
        "colab": {}
      },
      "source": [
        "optimizer=optim.Adam(network.parameters(), lr=0.015)"
      ],
      "execution_count": 0,
      "outputs": []
    },
    {
      "cell_type": "code",
      "metadata": {
        "id": "GqS-tlgn-QDQ",
        "colab_type": "code",
        "colab": {
          "base_uri": "https://localhost:8080/",
          "height": 34
        },
        "outputId": "0deeb395-7a38-46a9-a4ea-ce910fba89e6"
      },
      "source": [
        "loss.item() #just checking the loss once again"
      ],
      "execution_count": 11,
      "outputs": [
        {
          "output_type": "execute_result",
          "data": {
            "text/plain": [
              "2.321523427963257"
            ]
          },
          "metadata": {
            "tags": []
          },
          "execution_count": 11
        }
      ]
    },
    {
      "cell_type": "code",
      "metadata": {
        "id": "IE6HPPW--atj",
        "colab_type": "code",
        "colab": {
          "base_uri": "https://localhost:8080/",
          "height": 34
        },
        "outputId": "7756f30c-0c48-43fb-f792-6451b70a3f3a"
      },
      "source": [
        "get_num_correct(preds, labels) # we have 12/100 correct"
      ],
      "execution_count": 12,
      "outputs": [
        {
          "output_type": "execute_result",
          "data": {
            "text/plain": [
              "10"
            ]
          },
          "metadata": {
            "tags": []
          },
          "execution_count": 12
        }
      ]
    },
    {
      "cell_type": "markdown",
      "metadata": {
        "id": "ArFUxwsW-jfZ",
        "colab_type": "text"
      },
      "source": [
        "now updating the weights using step() method"
      ]
    },
    {
      "cell_type": "code",
      "metadata": {
        "id": "Q-_krwNv-ey6",
        "colab_type": "code",
        "colab": {}
      },
      "source": [
        "optimizer.step()"
      ],
      "execution_count": 0,
      "outputs": []
    },
    {
      "cell_type": "markdown",
      "metadata": {
        "id": "HUYmZQ3I-37Z",
        "colab_type": "text"
      },
      "source": [
        "now let's do this steps once again and see of n/w actially learns from the gradients we calculated and updated"
      ]
    },
    {
      "cell_type": "code",
      "metadata": {
        "id": "VnQ0z7cw-qJ8",
        "colab_type": "code",
        "colab": {
          "base_uri": "https://localhost:8080/",
          "height": 34
        },
        "outputId": "063d2123-58b7-4e36-c0fd-661e98a9796e"
      },
      "source": [
        "preds= network(images)\n",
        "loss= F.cross_entropy(preds, labels)\n",
        "loss.item()"
      ],
      "execution_count": 14,
      "outputs": [
        {
          "output_type": "execute_result",
          "data": {
            "text/plain": [
              "2.2917630672454834"
            ]
          },
          "metadata": {
            "tags": []
          },
          "execution_count": 14
        }
      ]
    },
    {
      "cell_type": "code",
      "metadata": {
        "id": "2QGtV5O0_G5b",
        "colab_type": "code",
        "colab": {
          "base_uri": "https://localhost:8080/",
          "height": 34
        },
        "outputId": "cb5b6741-f535-4256-d917-5873f32010ac"
      },
      "source": [
        "get_num_correct(preds, labels)"
      ],
      "execution_count": 15,
      "outputs": [
        {
          "output_type": "execute_result",
          "data": {
            "text/plain": [
              "12"
            ]
          },
          "metadata": {
            "tags": []
          },
          "execution_count": 15
        }
      ]
    },
    {
      "cell_type": "markdown",
      "metadata": {
        "id": "bGZ_9cYc_Bbn",
        "colab_type": "text"
      },
      "source": [
        "yayy! we got reduced loss and more correct predictions"
      ]
    },
    {
      "cell_type": "markdown",
      "metadata": {
        "id": "91LK0PFkChEQ",
        "colab_type": "text"
      },
      "source": [
        "now creating the training loop"
      ]
    },
    {
      "cell_type": "code",
      "metadata": {
        "id": "KTheqnHa-_8L",
        "colab_type": "code",
        "colab": {
          "base_uri": "https://localhost:8080/",
          "height": 34
        },
        "outputId": "c7535eae-8b98-41fd-c0d9-2cf4c997d810"
      },
      "source": [
        "images.shape"
      ],
      "execution_count": 17,
      "outputs": [
        {
          "output_type": "execute_result",
          "data": {
            "text/plain": [
              "torch.Size([100, 1, 28, 28])"
            ]
          },
          "metadata": {
            "tags": []
          },
          "execution_count": 17
        }
      ]
    },
    {
      "cell_type": "markdown",
      "metadata": {
        "id": "yLjVsQD_tZax",
        "colab_type": "text"
      },
      "source": [
        "setting the training loop"
      ]
    },
    {
      "cell_type": "code",
      "metadata": {
        "id": "fwipDt1qsBy7",
        "colab_type": "code",
        "colab": {
          "base_uri": "https://localhost:8080/",
          "height": 544
        },
        "outputId": "7c01f38f-30b4-4964-9471-4a106cb025d8"
      },
      "source": [
        "for epoch in range(5):  # loop over the dataset multiple times\n",
        "\n",
        "    running_loss = 0.0\n",
        "    for i, data in enumerate(data_loader, 0):\n",
        "        # get the inputs; data is a list of [inputs, labels]\n",
        "        images, labels = data\n",
        "\n",
        "        # zero the parameter gradients\n",
        "        optimizer.zero_grad()\n",
        "\n",
        "        # forward + backward + optimize\n",
        "        preds = network(images)\n",
        "        loss = loss_fun(preds, labels)\n",
        "        loss.backward()\n",
        "        optimizer.step()\n",
        "\n",
        "        # print statistics\n",
        "        running_loss += loss.item()\n",
        "        if i % 100 == 0:    # print every 2000 mini-batches\n",
        "            print('[%d, %5d] loss: %.3f' %\n",
        "                  (epoch + 1, i + 1, running_loss / 2000))\n",
        "            running_loss = 0.0\n",
        "\n",
        "print('Finished Training')"
      ],
      "execution_count": 44,
      "outputs": [
        {
          "output_type": "stream",
          "text": [
            "[1,     1] loss: 0.001\n",
            "[1,   101] loss: 0.115\n",
            "[1,   201] loss: 0.115\n",
            "[1,   301] loss: 0.115\n",
            "[1,   401] loss: 0.115\n",
            "[1,   501] loss: 0.115\n",
            "[2,     1] loss: 0.001\n",
            "[2,   101] loss: 0.115\n",
            "[2,   201] loss: 0.115\n",
            "[2,   301] loss: 0.115\n",
            "[2,   401] loss: 0.115\n",
            "[2,   501] loss: 0.115\n",
            "[3,     1] loss: 0.001\n",
            "[3,   101] loss: 0.115\n",
            "[3,   201] loss: 0.115\n",
            "[3,   301] loss: 0.115\n",
            "[3,   401] loss: 0.115\n",
            "[3,   501] loss: 0.115\n",
            "[4,     1] loss: 0.001\n",
            "[4,   101] loss: 0.115\n",
            "[4,   201] loss: 0.115\n",
            "[4,   301] loss: 0.115\n",
            "[4,   401] loss: 0.115\n",
            "[4,   501] loss: 0.115\n",
            "[5,     1] loss: 0.001\n",
            "[5,   101] loss: 0.115\n",
            "[5,   201] loss: 0.115\n",
            "[5,   301] loss: 0.115\n",
            "[5,   401] loss: 0.115\n",
            "[5,   501] loss: 0.115\n",
            "Finished Training\n"
          ],
          "name": "stdout"
        }
      ]
    },
    {
      "cell_type": "code",
      "metadata": {
        "id": "iSHwHksmuTKS",
        "colab_type": "code",
        "colab": {
          "base_uri": "https://localhost:8080/",
          "height": 34
        },
        "outputId": "34af4cbe-7b4a-4c04-9c58-7dfd8507e906"
      },
      "source": [
        "test_imgs,test_label=next(iter(testloader))\n",
        "preds=network(test_imgs)\n",
        "get_num_correct(preds,test_label)"
      ],
      "execution_count": 45,
      "outputs": [
        {
          "output_type": "execute_result",
          "data": {
            "text/plain": [
              "5"
            ]
          },
          "metadata": {
            "tags": []
          },
          "execution_count": 45
        }
      ]
    },
    {
      "cell_type": "markdown",
      "metadata": {
        "id": "JiuJhK4Bw_eN",
        "colab_type": "text"
      },
      "source": [
        "so 40/50 were predicted correctly"
      ]
    },
    {
      "cell_type": "code",
      "metadata": {
        "id": "UV1t1XEJw9mM",
        "colab_type": "code",
        "colab": {
          "base_uri": "https://localhost:8080/",
          "height": 34
        },
        "outputId": "95fd5642-33c8-4899-929f-bf0a440fc120"
      },
      "source": [
        "correct = 0\n",
        "total = 0\n",
        "with torch.no_grad():\n",
        "    for data in testloader:\n",
        "        images, labels = data\n",
        "        preds = network(images)\n",
        "        _, predicted = torch.max(preds.data, 1)\n",
        "        total += labels.size(0)\n",
        "        correct += (predicted == labels).sum().item()\n",
        "\n",
        "print('Accuracy of the network on the 10000 test images: %d %%' % (\n",
        "    100 * correct / total))"
      ],
      "execution_count": 46,
      "outputs": [
        {
          "output_type": "stream",
          "text": [
            "Accuracy of the network on the 10000 test images: 10 %\n"
          ],
          "name": "stdout"
        }
      ]
    },
    {
      "cell_type": "code",
      "metadata": {
        "id": "rFi7HQ6j0RqD",
        "colab_type": "code",
        "colab": {}
      },
      "source": [
        ""
      ],
      "execution_count": 0,
      "outputs": []
    }
  ]
}