{
  "nbformat": 4,
  "nbformat_minor": 0,
  "metadata": {
    "colab": {
      "name": "Untitled3.ipynb",
      "version": "0.3.2",
      "provenance": [],
      "include_colab_link": true
    },
    "kernelspec": {
      "name": "python3",
      "display_name": "Python 3"
    }
  },
  "cells": [
    {
      "cell_type": "markdown",
      "metadata": {
        "id": "view-in-github",
        "colab_type": "text"
      },
      "source": [
        "<a href=\"https://colab.research.google.com/github/mvish7/PyTorch/blob/master/NN_in_full.ipynb\" target=\"_parent\"><img src=\"https://colab.research.google.com/assets/colab-badge.svg\" alt=\"Open In Colab\"/></a>"
      ]
    },
    {
      "cell_type": "markdown",
      "metadata": {
        "id": "Cs7Pmfq47Yhy",
        "colab_type": "text"
      },
      "source": [
        "necessary imports"
      ]
    },
    {
      "cell_type": "code",
      "metadata": {
        "id": "5vreRHIk6lcq",
        "colab_type": "code",
        "colab": {}
      },
      "source": [
        "import torch\n",
        "import torchvision\n",
        "import torchvision.transforms as transforms\n",
        "import torch.nn as nn\n",
        "import torch.nn.functional as F\n",
        "import torch.optim as optim"
      ],
      "execution_count": 0,
      "outputs": []
    },
    {
      "cell_type": "markdown",
      "metadata": {
        "id": "tvTxGJMZ7bbr",
        "colab_type": "text"
      },
      "source": [
        "fun to calculate number of correct preds"
      ]
    },
    {
      "cell_type": "code",
      "metadata": {
        "id": "jPc7Lkl76wqR",
        "colab_type": "code",
        "colab": {}
      },
      "source": [
        "def get_num_correct(preds, labels):\n",
        "  return preds.argmax(dim=1).eq(labels).sum().item()"
      ],
      "execution_count": 0,
      "outputs": []
    },
    {
      "cell_type": "markdown",
      "metadata": {
        "id": "AYH_bFmc7mgv",
        "colab_type": "text"
      },
      "source": [
        "creating n/w class and building the fwd method"
      ]
    },
    {
      "cell_type": "code",
      "metadata": {
        "id": "GNOFARV76-_W",
        "colab_type": "code",
        "colab": {}
      },
      "source": [
        "class Network(nn.Module):\n",
        "  def __init__(self):\n",
        "    super(Network,self).__init__()\n",
        "    self.conv1 = nn.Conv2d(in_channels=1, out_channels=6, kernel_size=5)\n",
        "    self.conv2 = nn.Conv2d(in_channels=6, out_channels=12, kernel_size=5)\n",
        "    \n",
        "    self.fc1 = nn.Linear(in_features=12*4*4, out_features=120)\n",
        "    self.fc2 = nn.Linear(in_features=120, out_features=60)\n",
        "    self.out = nn.Linear(in_features=60, out_features=10)\n",
        "    \n",
        "  def forward(self,t):\n",
        "    #implementing fwd pass\n",
        "    \n",
        "    # input layer\n",
        "    t=t #returning the tensor as it as, no need of processing\n",
        "    \n",
        "    # hidden layer 1 \n",
        "    t=self.conv1(t)\n",
        "    t=F.relu(t)\n",
        "    t=F.max_pool2d(t, kernel_size=2, stride=2)\n",
        "    \n",
        "    \n",
        "    #hidden layer 2\n",
        "    t=self.conv2(t)\n",
        "    t=F.relu(t)\n",
        "    t=F.max_pool2d(t, kernel_size=2, stride=2)\n",
        "    \n",
        "    #hidden layer 3\n",
        "    t=t.reshape(-1,12*4*4)  #doing the flattening operation before passing the tensor from conv layer to the linear layer\n",
        "    t=self.fc1(t)\n",
        "    t=F.relu(t)\n",
        "    \n",
        "    #hidden layer 4\n",
        "    t=self.fc2(t)\n",
        "    t=F.relu(t)\n",
        "    \n",
        "    #output layer\n",
        "    t=self.out(t)\n",
        "    #t=F.softmax(t, dim=1)  no need to use softmax here, coz we are using cross entropy as our loss function and it has built in softmax.\n",
        "    \n",
        "    \n",
        "    return t\n",
        "  \n",
        "      "
      ],
      "execution_count": 0,
      "outputs": []
    },
    {
      "cell_type": "markdown",
      "metadata": {
        "id": "nbG8_0kW7q3c",
        "colab_type": "text"
      },
      "source": [
        "data downloaded"
      ]
    },
    {
      "cell_type": "code",
      "metadata": {
        "id": "GQB3aWlR7FOx",
        "colab_type": "code",
        "colab": {}
      },
      "source": [
        "trainset=torchvision.datasets.FashionMNIST(root='./data/FashionMNIST',\n",
        "                                           train=True, \n",
        "                                           download=True,\n",
        "               transform=transforms.Compose([transforms.ToTensor()]))"
      ],
      "execution_count": 0,
      "outputs": []
    },
    {
      "cell_type": "markdown",
      "metadata": {
        "id": "CciURXxrxZlL",
        "colab_type": "text"
      },
      "source": [
        "downloading the test data now"
      ]
    },
    {
      "cell_type": "code",
      "metadata": {
        "id": "_A_8i42-xbyn",
        "colab_type": "code",
        "colab": {}
      },
      "source": [
        "testset = torchvision.datasets.FashionMNIST(root='./data/FashionMNIST', train=False,\n",
        "                                       download=True, \n",
        "                                           transform=transforms.Compose([transforms.ToTensor()]))"
      ],
      "execution_count": 0,
      "outputs": []
    },
    {
      "cell_type": "code",
      "metadata": {
        "id": "uz_ajfgw8pGF",
        "colab_type": "code",
        "colab": {}
      },
      "source": [
        "network=Network()"
      ],
      "execution_count": 0,
      "outputs": []
    },
    {
      "cell_type": "markdown",
      "metadata": {
        "id": "wVCnyCT57tC9",
        "colab_type": "text"
      },
      "source": [
        "creating batch of 100 images, using dataloader class"
      ]
    },
    {
      "cell_type": "code",
      "metadata": {
        "id": "TjvGP7y47Iwm",
        "colab_type": "code",
        "colab": {}
      },
      "source": [
        "data_loader=torch.utils.data.DataLoader(trainset,batch_size=100, shuffle='true')\n",
        "batch=next(iter(data_loader))\n",
        "images, labels=batch"
      ],
      "execution_count": 0,
      "outputs": []
    },
    {
      "cell_type": "markdown",
      "metadata": {
        "id": "03JAI4cIxz2Y",
        "colab_type": "text"
      },
      "source": [
        "creating dataloader instance for test data"
      ]
    },
    {
      "cell_type": "code",
      "metadata": {
        "id": "UZ32mMbMyBxj",
        "colab_type": "code",
        "colab": {}
      },
      "source": [
        "testloader = torch.utils.data.DataLoader(testset, batch_size=50,\n",
        "                                         shuffle=False)"
      ],
      "execution_count": 0,
      "outputs": []
    },
    {
      "cell_type": "markdown",
      "metadata": {
        "id": "MhMr3GUG8Mhb",
        "colab_type": "text"
      },
      "source": [
        "calculating the loss"
      ]
    },
    {
      "cell_type": "code",
      "metadata": {
        "id": "wj-Klnks8BGp",
        "colab_type": "code",
        "colab": {}
      },
      "source": [
        "preds= network(images)\n",
        "loss_fun= nn.CrossEntropyLoss()\n",
        "#loss.item() #item method gives out the numerical vlaue of the loss"
      ],
      "execution_count": 0,
      "outputs": []
    },
    {
      "cell_type": "markdown",
      "metadata": {
        "id": "o1mxqkmD9RMQ",
        "colab_type": "text"
      },
      "source": [
        "calculating the gradients with backward method"
      ]
    },
    {
      "cell_type": "code",
      "metadata": {
        "id": "AXzPnrn08mvi",
        "colab_type": "code",
        "colab": {}
      },
      "source": [
        "loss=loss_fun(preds,labels)\n",
        "loss.backward()"
      ],
      "execution_count": 0,
      "outputs": []
    },
    {
      "cell_type": "markdown",
      "metadata": {
        "id": "b5cM3UDQ9anC",
        "colab_type": "text"
      },
      "source": [
        "now using this gradients to update the network weights using optimizer"
      ]
    },
    {
      "cell_type": "code",
      "metadata": {
        "id": "i3a0iNxA9Zzy",
        "colab_type": "code",
        "colab": {}
      },
      "source": [
        "optimizer=optim.Adam(network.parameters(), lr=0.01)"
      ],
      "execution_count": 0,
      "outputs": []
    },
    {
      "cell_type": "code",
      "metadata": {
        "id": "GqS-tlgn-QDQ",
        "colab_type": "code",
        "outputId": "ea55bd02-d5a1-4192-d3c8-a508ccb0f02d",
        "colab": {
          "base_uri": "https://localhost:8080/",
          "height": 34
        }
      },
      "source": [
        "loss.item() #just checking the loss once again"
      ],
      "execution_count": 27,
      "outputs": [
        {
          "output_type": "execute_result",
          "data": {
            "text/plain": [
              "2.3104960918426514"
            ]
          },
          "metadata": {
            "tags": []
          },
          "execution_count": 27
        }
      ]
    },
    {
      "cell_type": "code",
      "metadata": {
        "id": "IE6HPPW--atj",
        "colab_type": "code",
        "outputId": "f9b165c0-c066-4c2f-eae3-9c23a4d4abd1",
        "colab": {
          "base_uri": "https://localhost:8080/",
          "height": 34
        }
      },
      "source": [
        "get_num_correct(preds, labels) # we have 12/100 correct"
      ],
      "execution_count": 28,
      "outputs": [
        {
          "output_type": "execute_result",
          "data": {
            "text/plain": [
              "7"
            ]
          },
          "metadata": {
            "tags": []
          },
          "execution_count": 28
        }
      ]
    },
    {
      "cell_type": "markdown",
      "metadata": {
        "id": "ArFUxwsW-jfZ",
        "colab_type": "text"
      },
      "source": [
        "now updating the weights using step() method"
      ]
    },
    {
      "cell_type": "code",
      "metadata": {
        "id": "Q-_krwNv-ey6",
        "colab_type": "code",
        "colab": {}
      },
      "source": [
        "optimizer.step()"
      ],
      "execution_count": 0,
      "outputs": []
    },
    {
      "cell_type": "markdown",
      "metadata": {
        "id": "HUYmZQ3I-37Z",
        "colab_type": "text"
      },
      "source": [
        "now let's do this steps once again and see of n/w actially learns from the gradients we calculated and updated"
      ]
    },
    {
      "cell_type": "code",
      "metadata": {
        "id": "VnQ0z7cw-qJ8",
        "colab_type": "code",
        "outputId": "33eb6ddf-919e-418f-f179-8c09b3109581",
        "colab": {
          "base_uri": "https://localhost:8080/",
          "height": 34
        }
      },
      "source": [
        "preds= network(images)\n",
        "loss= F.cross_entropy(preds, labels)\n",
        "loss.item()"
      ],
      "execution_count": 30,
      "outputs": [
        {
          "output_type": "execute_result",
          "data": {
            "text/plain": [
              "2.2861897945404053"
            ]
          },
          "metadata": {
            "tags": []
          },
          "execution_count": 30
        }
      ]
    },
    {
      "cell_type": "code",
      "metadata": {
        "id": "2QGtV5O0_G5b",
        "colab_type": "code",
        "outputId": "6f2bff03-1a28-4357-9df1-f9b4ce50f662",
        "colab": {
          "base_uri": "https://localhost:8080/",
          "height": 34
        }
      },
      "source": [
        "get_num_correct(preds, labels)"
      ],
      "execution_count": 31,
      "outputs": [
        {
          "output_type": "execute_result",
          "data": {
            "text/plain": [
              "12"
            ]
          },
          "metadata": {
            "tags": []
          },
          "execution_count": 31
        }
      ]
    },
    {
      "cell_type": "markdown",
      "metadata": {
        "id": "bGZ_9cYc_Bbn",
        "colab_type": "text"
      },
      "source": [
        "yayy! we got reduced loss and more correct predictions"
      ]
    },
    {
      "cell_type": "markdown",
      "metadata": {
        "id": "91LK0PFkChEQ",
        "colab_type": "text"
      },
      "source": [
        "now creating the training loop"
      ]
    },
    {
      "cell_type": "code",
      "metadata": {
        "id": "KTheqnHa-_8L",
        "colab_type": "code",
        "colab": {}
      },
      "source": [
        "images.shape"
      ],
      "execution_count": 0,
      "outputs": []
    },
    {
      "cell_type": "markdown",
      "metadata": {
        "id": "yLjVsQD_tZax",
        "colab_type": "text"
      },
      "source": [
        "setting the training loop"
      ]
    },
    {
      "cell_type": "code",
      "metadata": {
        "id": "fwipDt1qsBy7",
        "colab_type": "code",
        "outputId": "45fae425-36f3-4d87-ac8f-203b61c58c13",
        "colab": {
          "base_uri": "https://localhost:8080/",
          "height": 102
        }
      },
      "source": [
        "for epoch in range(5):\n",
        "  total_loss=0\n",
        "  total_correct=0\n",
        "\n",
        "  for batch in data_loader:\n",
        "    images, labels= batch\n",
        "    preds = network(images)\n",
        "    loss = loss_fun(preds, labels)\n",
        "  \n",
        "    optimizer.zero_grad()\n",
        "    loss.backward() #calculating the gradients\n",
        "    optimizer.step() #update weights\n",
        "  \n",
        "    total_loss += loss.item()\n",
        "    total_correct += get_num_correct(preds, labels)\n",
        "  \n",
        "  print(\"epoch:\", epoch, \"total correct:\", total_correct, \"loss:\", total_loss)"
      ],
      "execution_count": 34,
      "outputs": [
        {
          "output_type": "stream",
          "text": [
            "epoch: 0 total correct: 52589 loss: 200.86878828704357\n",
            "epoch: 1 total correct: 52781 loss: 194.71054181456566\n",
            "epoch: 2 total correct: 52995 loss: 190.26656316965818\n",
            "epoch: 3 total correct: 53088 loss: 186.94299352169037\n",
            "epoch: 4 total correct: 53344 loss: 178.01390904188156\n"
          ],
          "name": "stdout"
        }
      ]
    },
    {
      "cell_type": "code",
      "metadata": {
        "id": "suLSZU03nD5l",
        "colab_type": "code",
        "colab": {
          "base_uri": "https://localhost:8080/",
          "height": 34
        },
        "outputId": "f3ede09e-7b0a-49fb-a9d1-8626079ddd60"
      },
      "source": [
        "total_correct/len(trainset)  #is the accuracy"
      ],
      "execution_count": 36,
      "outputs": [
        {
          "output_type": "execute_result",
          "data": {
            "text/plain": [
              "0.8890666666666667"
            ]
          },
          "metadata": {
            "tags": []
          },
          "execution_count": 36
        }
      ]
    },
    {
      "cell_type": "code",
      "metadata": {
        "id": "iSHwHksmuTKS",
        "colab_type": "code",
        "colab": {}
      },
      "source": [
        "test_imgs,test_label=next(iter(testloader))\n",
        "preds=network(test_imgs)\n",
        "get_num_correct(preds,test_label)"
      ],
      "execution_count": 0,
      "outputs": []
    },
    {
      "cell_type": "markdown",
      "metadata": {
        "id": "JiuJhK4Bw_eN",
        "colab_type": "text"
      },
      "source": [
        "so 40/50 were predicted correctly"
      ]
    },
    {
      "cell_type": "code",
      "metadata": {
        "id": "UV1t1XEJw9mM",
        "colab_type": "code",
        "colab": {}
      },
      "source": [
        "correct = 0\n",
        "total = 0\n",
        "with torch.no_grad():\n",
        "    for data in testloader:\n",
        "        images, labels = data\n",
        "        preds = network(images)\n",
        "        _, predicted = torch.max(preds.data, 1)\n",
        "        total += labels.size(0)\n",
        "        correct += (predicted == labels).sum().item()\n",
        "\n",
        "print('Accuracy of the network on the 10000 test images: %d %%' % (\n",
        "    100 * correct / total))"
      ],
      "execution_count": 0,
      "outputs": []
    },
    {
      "cell_type": "code",
      "metadata": {
        "id": "rFi7HQ6j0RqD",
        "colab_type": "code",
        "colab": {}
      },
      "source": [
        ""
      ],
      "execution_count": 0,
      "outputs": []
    }
  ]
}